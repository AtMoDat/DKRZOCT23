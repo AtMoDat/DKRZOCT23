{
 "cells": [
  {
   "cell_type": "markdown",
   "id": "ebb6eec2-ec21-4de4-896f-86635440d4f1",
   "metadata": {},
   "source": [
    "## Creating xarray datasets \"from scratch\" when the geospatial data are on an irregular grid"
   ]
  },
  {
   "cell_type": "markdown",
   "id": "c13e5b43-b28f-491c-b23e-0371975101f4",
   "metadata": {},
   "source": [
    "### Import libaries"
   ]
  },
  {
   "cell_type": "code",
   "execution_count": null,
   "id": "6194389d-ea0b-4002-a499-6dd6068ba19e",
   "metadata": {
    "tags": []
   },
   "outputs": [],
   "source": [
    "import xarray as xr\n",
    "import numpy as np"
   ]
  },
  {
   "cell_type": "markdown",
   "id": "be5015ad-64d0-4bb9-9b50-29967d6e51d1",
   "metadata": {},
   "source": [
    "### Create some fake input data for the data variables and the coordinate variables"
   ]
  },
  {
   "cell_type": "code",
   "execution_count": null,
   "id": "52192389-8aa6-40cf-98ae-b0351ed1f1ae",
   "metadata": {
    "tags": []
   },
   "outputs": [],
   "source": [
    "nlat, nlon = 10, 5\n",
    "lats = np.linspace(-90., 90., nlat)\n",
    "lons = np.linspace(-45., 45., nlon)\n",
    "\n",
    "#-- create 2D latitude and longitude ndarrays based on meshgrid broadcasting, faking some  irregular grid.\n",
    "lats2D, lons2D = np.meshgrid(lats, lons, indexing='ij')\n",
    "lons2D         += 0.5 * lats2D                            #-- modify 2D lon array as a function of lat (optional)\n",
    "\n",
    "#-- create some 2D ndarray  \n",
    "mydata1     = np.arange(nlat * nlon).reshape(lons2D.shape)"
   ]
  },
  {
   "cell_type": "markdown",
   "id": "669adf38-f684-461f-904f-bf431358305f",
   "metadata": {},
   "source": [
    "look at lons2D"
   ]
  },
  {
   "cell_type": "code",
   "execution_count": null,
   "id": "bd242235-9ad4-406a-95ba-469fa469d4fe",
   "metadata": {
    "tags": []
   },
   "outputs": [],
   "source": [
    "print(lons2D.shape)\n",
    "print(lons2D)"
   ]
  },
  {
   "cell_type": "code",
   "execution_count": null,
   "id": "33b46fd0-1769-4081-bc9b-9e957549dec2",
   "metadata": {
    "tags": []
   },
   "outputs": [],
   "source": [
    "#xr.DataArray(data=mydata1).plot();"
   ]
  },
  {
   "cell_type": "markdown",
   "id": "431198ef-c174-46f0-86d9-a91800394c02",
   "metadata": {},
   "source": [
    "### create an xarray DataArray representing one data variable"
   ]
  },
  {
   "cell_type": "code",
   "execution_count": null,
   "id": "4ec82c12-56ae-411a-871c-adf8b2271ff5",
   "metadata": {
    "tags": []
   },
   "outputs": [],
   "source": [
    "#--create xarray DataArray with metadata for fake data with an irregular grid (metric coordinate system)\n",
    "#  in this example, two coordinate variables are available to describe each dimension coordinate\n",
    "#  latitude(rlat,rlon) in degrees_north\n",
    "#  latitude2(rlat) in m\n",
    "da1 = xr.DataArray(data=mydata1, \n",
    "                   dims=(\"rlat\", \"rlon\"), \n",
    "                   coords={\n",
    "                       \"latitude\":  ((\"rlat\", \"rlon\"), lats2D, {'long_name': 'latitude', 'units': 'degrees_north'}), \n",
    "                       \"longitude\": ((\"rlat\", \"rlon\"), lons2D, {'long_name': 'longitude', 'units': 'degrees_east'}),\n",
    "                       \"latitude2\": ((\"rlat\"), lats, {'long_name': 'distance to origin in y-direction', 'units': 'm'}),\n",
    "                       \"longitude2\": ((\"rlon\"), lons, {'long_name': 'distance to origin in x-direction', 'units': 'm'})}, \n",
    "                    attrs={'standard_name': 'carbon_flux', 'units': 'kg m-2 s-2'}\n",
    "                  )\n",
    "#-- create a new DataArray by inheriting the attributes, dims, coords from da1\n",
    "da2 = da1.copy(data=mydata1**2)\n",
    "#-- overwrite standardname inherited from da1\n",
    "da2.attrs[\"standard_name\"]= 'nitrogen_flux'         "
   ]
  },
  {
   "cell_type": "markdown",
   "id": "86ea1a5c-7bdc-40c2-9c5f-ad2f60e2200c",
   "metadata": {},
   "source": [
    "### Convert the DataArrays into a DataSet"
   ]
  },
  {
   "cell_type": "code",
   "execution_count": null,
   "id": "9ad01709-0710-4f17-bc6c-b1f7c4c0fcc4",
   "metadata": {
    "tags": []
   },
   "outputs": [],
   "source": [
    "ds = xr.Dataset({'c_flux': da1, 'n_flux': da2})"
   ]
  },
  {
   "cell_type": "code",
   "execution_count": null,
   "id": "3b26e8f3-4417-42b6-af8e-07d723a7a63a",
   "metadata": {
    "tags": []
   },
   "outputs": [],
   "source": [
    "ds"
   ]
  },
  {
   "cell_type": "markdown",
   "id": "44959455-f225-42bb-acbf-496e6fe1d5ee",
   "metadata": {
    "tags": []
   },
   "source": [
    ".... Much more descriptive information is needed that the data can be properly georeferenced and e.g. projected!  \n",
    ".... This is even painful for advanced python users...."
   ]
  },
  {
   "cell_type": "markdown",
   "id": "3c82c0c7-4c00-466b-964b-8d330082425a",
   "metadata": {},
   "source": [
    "### It is much less pain if you open a netCDF file with xarray where the georeferencing is already CF compliant  "
   ]
  },
  {
   "cell_type": "code",
   "execution_count": null,
   "id": "837b7f47-b1e0-40d9-afaf-3ef98f423853",
   "metadata": {
    "tags": []
   },
   "outputs": [],
   "source": [
    "!wget https://github.com/TUBklima/UC2Data/blob/master/tests/test_files/DS_example_multidim.nc\n",
    "ds_already = xr.open_dataset(\"DS_example_multidim.nc\") "
   ]
  },
  {
   "cell_type": "code",
   "execution_count": null,
   "id": "62a54cbf-8643-4edf-ae5e-a3d25a6d8bfa",
   "metadata": {
    "tags": []
   },
   "outputs": [],
   "source": [
    "ds_already"
   ]
  },
  {
   "cell_type": "code",
   "execution_count": null,
   "id": "39a774fe-059f-43ca-a1c1-5f5709b6a300",
   "metadata": {
    "tags": []
   },
   "outputs": [],
   "source": [
    "ds_already.isel(time=slice(0, 1),z=0).ta.plot();"
   ]
  },
  {
   "cell_type": "code",
   "execution_count": null,
   "id": "bb807916-1ed9-42f3-9b69-f57374ea2174",
   "metadata": {
    "tags": []
   },
   "outputs": [],
   "source": [
    "ds_already.lon.plot();"
   ]
  },
  {
   "cell_type": "code",
   "execution_count": null,
   "id": "81318d43-cd63-4578-9863-cb5ae856071a",
   "metadata": {
    "tags": []
   },
   "outputs": [],
   "source": [
    "#ds['c_flux'].plot()"
   ]
  },
  {
   "cell_type": "markdown",
   "id": "70be44f2-71d0-4f6f-8925-f32c83a3dc3f",
   "metadata": {},
   "source": [
    "### Now you could e.g. use rioxarray, cartopy, xESMF, to reproject the data..even this is non-trivial"
   ]
  }
 ],
 "metadata": {
  "kernelspec": {
   "display_name": "likakernel",
   "language": "python",
   "name": "likakernel"
  },
  "language_info": {
   "codemirror_mode": {
    "name": "ipython",
    "version": 3
   },
   "file_extension": ".py",
   "mimetype": "text/x-python",
   "name": "python",
   "nbconvert_exporter": "python",
   "pygments_lexer": "ipython3",
   "version": "3.11.0"
  }
 },
 "nbformat": 4,
 "nbformat_minor": 5
}
