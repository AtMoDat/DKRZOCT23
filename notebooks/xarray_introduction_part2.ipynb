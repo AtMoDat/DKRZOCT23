{
 "cells": [
  {
   "cell_type": "markdown",
   "metadata": {},
   "source": [
    "![xarray_logo](https://docs.xarray.dev/en/stable/_static/dataset-diagram-logo.png)\n",
    "\n",
    "# Introduction II\n",
    "\n",
    "&copy; Part of **_DKRZ Python Course for Geoscientists_**, licensed by DKRZ under **CC BY-NC-ND 4.0**\n",
    "\n",
    "Xarray home page: https://xarray.pydata.org/en/stable/index.html <br>\n",
    "Xarray documentation: https://docs.xarray.dev/en/stable/index.html\n"
   ]
  },
  {
   "cell_type": "markdown",
   "metadata": {},
   "source": [
    "Importing modules"
   ]
  },
  {
   "cell_type": "code",
   "execution_count": null,
   "metadata": {},
   "outputs": [],
   "source": [
    "import xarray as xr\n",
    "import numpy as np\n",
    "import pandas as pd\n",
    "import datetime\n",
    "import matplotlib.pyplot as plt\n",
    "import os, datetime"
   ]
  },
  {
   "cell_type": "markdown",
   "metadata": {},
   "source": [
    "<br>\n",
    "\n",
    "----\n",
    "\n",
    "Define the first spatial Xarray Dataset ds with random data.  \n",
    "For reproducibility, set the seed to 100000."
   ]
  },
  {
   "cell_type": "code",
   "execution_count": null,
   "metadata": {},
   "outputs": [],
   "source": [
    "np.random.seed(100000)\n",
    "\n",
    "time = pd.date_range(start='2023-01-01', periods=2)\n",
    "lat = [45.,50.,55.,60.]\n",
    "lon = [0.,5.,10.,15.,20.]\n",
    "\n",
    "temp = xr.DataArray(np.random.uniform(250,300,40).reshape((2,4,5)),\n",
    "                   coords={'time': time,\n",
    "                           'lat': (['lat'], lat),\n",
    "                           'lon': (['lon'], lon),\n",
    "                           },\n",
    "                   name='temp',\n",
    "                   attrs={'units': 'K', 'standard_name':'surface_temperature'})\n",
    "\n",
    "prec = xr.DataArray(np.random.uniform(0.001,0.015,40).reshape((2,4,5)),\n",
    "                   coords={'time': time,\n",
    "                           'lat': (['lat'], lat),\n",
    "                           'lon': (['lon'], lon),\n",
    "                           },\n",
    "                   name='prec',\n",
    "                   attrs={'units': 'kg m-2', 'standard_name':'precipitation_amount'})\n",
    "\n",
    "ds = xr.merge([temp,prec])\n",
    "\n",
    "ds"
   ]
  },
  {
   "cell_type": "markdown",
   "metadata": {},
   "source": [
    "----\n",
    "\n",
    "## Xarray functions/methods\n",
    "\n",
    "\n",
    "### `transpose` - reordering dimensions\n",
    "\n",
    "You can reorder the dimensions of a DataArray or Dataset by name with the `transpose()` function.\n",
    "\n",
    "**Note:**<br>\n",
    "The order of the dimensions list is not changed but the dimension order of each data variable has changed."
   ]
  },
  {
   "cell_type": "code",
   "execution_count": null,
   "metadata": {},
   "outputs": [],
   "source": [
    "ds.transpose('lon','lat','time')"
   ]
  },
  {
   "cell_type": "code",
   "execution_count": null,
   "metadata": {},
   "outputs": [],
   "source": [
    "ds.temp.transpose('lat','lon','time')"
   ]
  },
  {
   "cell_type": "markdown",
   "metadata": {},
   "source": [
    "<br>\n",
    "\n",
    "### `where` - mask data\n",
    "\n",
    "Similar to the NumPy `where` function, Xarray provides a `where` function that uses a condition to filter the data.  \n",
    "You can filter the data by data value range or by a condition related to a dimension for instance.\n"
   ]
  },
  {
   "cell_type": "code",
   "execution_count": null,
   "metadata": {},
   "outputs": [],
   "source": [
    "var = ds.temp.isel(time=0)\n",
    "var.data"
   ]
  },
  {
   "cell_type": "code",
   "execution_count": null,
   "metadata": {},
   "outputs": [],
   "source": [
    "var.where((var > 273.15) & (var < 300.)).data"
   ]
  },
  {
   "cell_type": "code",
   "execution_count": null,
   "metadata": {},
   "outputs": [],
   "source": [
    "var.where((var.lon > 10.)).data"
   ]
  },
  {
   "cell_type": "markdown",
   "metadata": {},
   "source": [
    "<br>\n",
    "\n",
    "### `isnull` - check where missing values exist\n",
    "\n",
    "It returns a mask of True/False elements. \n",
    "\n",
    "Our _var_ variable does not contain missing values. We now define those values as missing if they are below 273.15.\n"
   ]
  },
  {
   "cell_type": "code",
   "execution_count": null,
   "metadata": {},
   "outputs": [],
   "source": [
    "var = var.where(var < 273.15)"
   ]
  },
  {
   "cell_type": "code",
   "execution_count": null,
   "metadata": {},
   "outputs": [],
   "source": [
    "print(var.isnull().data)"
   ]
  },
  {
   "cell_type": "markdown",
   "metadata": {},
   "source": [
    "### `count` - count missing values\n",
    "\n",
    "Count the data that are not missing values."
   ]
  },
  {
   "cell_type": "code",
   "execution_count": null,
   "metadata": {},
   "outputs": [],
   "source": [
    "print(var.count().data)"
   ]
  },
  {
   "cell_type": "markdown",
   "metadata": {},
   "source": [
    "### `notnull` - check where missing values not exist\n",
    "\n",
    "To check where valid  (\"non-missing\") values are present, use `notnull`.\n"
   ]
  },
  {
   "cell_type": "code",
   "execution_count": null,
   "metadata": {},
   "outputs": [],
   "source": [
    "print(var.notnull().data)"
   ]
  },
  {
   "cell_type": "code",
   "execution_count": null,
   "metadata": {},
   "outputs": [],
   "source": [
    "var.data"
   ]
  },
  {
   "cell_type": "markdown",
   "metadata": {},
   "source": [
    "<br>\n",
    "\n",
    "### `fillna` - change missing value to a constant number"
   ]
  },
  {
   "cell_type": "code",
   "execution_count": null,
   "metadata": {},
   "outputs": [],
   "source": [
    "var.fillna(-999).data"
   ]
  },
  {
   "cell_type": "markdown",
   "metadata": {},
   "source": [
    "<br>\n",
    "\n",
    "### `min(), max(), mean(), sum(), std(), corr(), ...`\n",
    "\n",
    "Xarray provides a lot of computational functions.\n"
   ]
  },
  {
   "cell_type": "code",
   "execution_count": null,
   "metadata": {},
   "outputs": [],
   "source": [
    "var = ds.temp\n",
    "#var"
   ]
  },
  {
   "cell_type": "code",
   "execution_count": null,
   "metadata": {},
   "outputs": [],
   "source": [
    "print(f'min = {var.min().values:6.2f},  max = {var.max().values:6.2f}')"
   ]
  },
  {
   "cell_type": "code",
   "execution_count": null,
   "metadata": {},
   "outputs": [],
   "source": [
    "print(f'std = {var.std().values:6.2f}')"
   ]
  },
  {
   "cell_type": "markdown",
   "metadata": {},
   "source": [
    "### `groupby, groupby_bins` - group data by dimension\n",
    "\n",
    "You can group the data by frequency or dimension into bins to do other further computations.\n",
    "\n",
    "See: https://docs.xarray.dev/en/stable/user-guide/groupby.html\n",
    "\n",
    "For a better demonstration we read the dataset from the file _rectilinear_grid_2D.nc_ that contains 6-hourly data."
   ]
  },
  {
   "cell_type": "code",
   "execution_count": null,
   "metadata": {},
   "outputs": [],
   "source": [
    "ds2 = xr.open_dataset('../data/rectilinear_grid_2D.nc')\n",
    "ds2"
   ]
  },
  {
   "cell_type": "code",
   "execution_count": null,
   "metadata": {},
   "outputs": [],
   "source": [
    "tsurf = ds2.tsurf"
   ]
  },
  {
   "cell_type": "markdown",
   "metadata": {},
   "source": [
    "It is possible to group the data day by day which allows us to compute the daily means. What does this mean?  \n",
    "It means that all 6-hourly data of a day is packed together into a group.\n",
    "\n",
    "First, let's see what happens when we use the groupby method with 'time.day' to resample the time dimension to daily."
   ]
  },
  {
   "cell_type": "code",
   "execution_count": null,
   "metadata": {},
   "outputs": [],
   "source": [
    "tsurf.groupby('time.day')"
   ]
  },
  {
   "cell_type": "markdown",
   "metadata": {},
   "source": [
    "<br>The data is grouped to **10 days** \n",
    "\n",
    "    40 time steps 6-hourly == 10 days of 6-hour steps\n",
    "\n",
    "In the next step we use this grouping to compute the daily means of tsurf. Notice that the time dimension name changes to day."
   ]
  },
  {
   "cell_type": "code",
   "execution_count": null,
   "metadata": {},
   "outputs": [],
   "source": [
    "tsurf_daily_mean = tsurf.groupby('time.day').mean()\n",
    "tsurf_daily_mean"
   ]
  },
  {
   "cell_type": "markdown",
   "metadata": {},
   "source": [
    "By the way, we can create a plot of an Xarray Dataset or DataArray with the `.plot()` function. Let's see how the data of the first time step of tsurf looks like."
   ]
  },
  {
   "cell_type": "code",
   "execution_count": null,
   "metadata": {},
   "outputs": [],
   "source": [
    "tsurf_daily_mean.isel(day=0).plot()"
   ]
  },
  {
   "cell_type": "markdown",
   "metadata": {},
   "source": [
    "**Note:** <br>\n",
    "The datetime time accessor is used like\n",
    "\n",
    "    ds.time.dt.dayofyear\n",
    " \n",
    "### `time.dt.dayofyear`, `time.dt.day`, `time.dt.month`, `time.dt.year`, `...`\n",
    "In Xarray available datetime shortcuts\n",
    "- time.dt.dayofyear\n",
    "- time.dt.day\n",
    "- time.dt.month\n",
    "- time.dt.year\n",
    "- time.dt.season\n",
    "- ...\n"
   ]
  },
  {
   "cell_type": "code",
   "execution_count": null,
   "metadata": {},
   "outputs": [],
   "source": [
    "ds.time.dt.dayofyear"
   ]
  },
  {
   "cell_type": "code",
   "execution_count": null,
   "metadata": {},
   "outputs": [],
   "source": [
    "ds2.time.dt.dayofyear"
   ]
  },
  {
   "cell_type": "markdown",
   "metadata": {},
   "source": [
    "Compute the means of a variable grouped by dayofyear of a multi-year Dataset/DataArray."
   ]
  },
  {
   "cell_type": "code",
   "execution_count": null,
   "metadata": {},
   "outputs": [],
   "source": [
    "#tsurf.groupby('time.dayofyear').mean()"
   ]
  },
  {
   "cell_type": "markdown",
   "metadata": {},
   "source": [
    "<br>\n",
    "\n",
    "<b><font size=\"+3\" color=\"#ff0000\">Exercise: </font></b> \n",
    "\n",
    "Use the precip data from the rectilinear_grid_2D.nc file:\n",
    "\n",
    "1. compute the mean of the variable precip over 'time' and plot it\n",
    "1. plot only the precip data > 0.0001\n",
    "1. how many non-missing values exist (exercise # 2.)\n",
    "1. compute the mean of the variable precip over ('lat','lon') and plot it\n"
   ]
  },
  {
   "cell_type": "code",
   "execution_count": null,
   "metadata": {},
   "outputs": [],
   "source": [
    "# 1.\n"
   ]
  },
  {
   "cell_type": "code",
   "execution_count": null,
   "metadata": {},
   "outputs": [],
   "source": [
    "# 2.\n"
   ]
  },
  {
   "cell_type": "code",
   "execution_count": null,
   "metadata": {},
   "outputs": [],
   "source": [
    "# 3.\n"
   ]
  },
  {
   "cell_type": "markdown",
   "metadata": {},
   "source": [
    "<br>\n",
    "\n",
    "#### Solution:\n"
   ]
  },
  {
   "cell_type": "code",
   "execution_count": null,
   "metadata": {},
   "outputs": [],
   "source": [
    "# 1. \n",
    "cmap = 'Blues'\n",
    "\n",
    "precip = ds2.precip\n",
    "\n",
    "precip_mean = precip.mean('time')\n",
    "precip_mean.plot(cmap=cmap)"
   ]
  },
  {
   "cell_type": "code",
   "execution_count": null,
   "metadata": {},
   "outputs": [],
   "source": [
    "# 2.\n",
    "\n",
    "precip_mean.where(precip_mean > 0.0001).plot(cmap=cmap)"
   ]
  },
  {
   "cell_type": "code",
   "execution_count": null,
   "metadata": {},
   "outputs": [],
   "source": [
    "# 3.\n",
    "\n",
    "print(precip_mean.count().data)"
   ]
  },
  {
   "cell_type": "code",
   "execution_count": null,
   "metadata": {},
   "outputs": [],
   "source": [
    "# 4.\n",
    "\n",
    "precip_fldmean = precip.mean(('lat','lon'))\n",
    "precip_fldmean.plot()"
   ]
  },
  {
   "cell_type": "markdown",
   "metadata": {},
   "source": [
    "<br>\n",
    "\n",
    "----\n",
    "----\n",
    "\n",
    "## Applications\n",
    "\n",
    "<br>\n",
    "\n",
    "### Daily mean\n",
    "\n",
    "To compute the **daily mean** of the variable **_tsurf_**:\n",
    "- group data day-wise\n",
    "- compute the mean for each day\n"
   ]
  },
  {
   "cell_type": "code",
   "execution_count": null,
   "metadata": {
    "tags": []
   },
   "outputs": [],
   "source": [
    "day_mean = tsurf.groupby('time.day').mean('time')\n",
    "day_mean"
   ]
  },
  {
   "cell_type": "markdown",
   "metadata": {},
   "source": [
    "----\n",
    "\n",
    "### Global mean\n",
    "\n",
    "To compute the global (spatial) mean for each time step (like CDO's fldmean)\n",
    "- compute the mean along the coordinates lat and lon\n"
   ]
  },
  {
   "cell_type": "code",
   "execution_count": null,
   "metadata": {},
   "outputs": [],
   "source": [
    "day_spatialmean = tsurf.mean(dim=['lon','lat'])\n",
    "day_spatialmean"
   ]
  },
  {
   "cell_type": "code",
   "execution_count": null,
   "metadata": {},
   "outputs": [],
   "source": [
    "day_spatialmean.plot()"
   ]
  },
  {
   "cell_type": "markdown",
   "metadata": {},
   "source": [
    "<br>\n",
    "\n",
    "----\n",
    "\n",
    "### Weighted global mean\n",
    "\n",
    "The global mean computed above does not take account to the different area sizes of the lon-lat grid cells. Applications like CDO compute the weighted mean under the hood, but here we have to do it ourselves.\n",
    "\n",
    "- compute the global weights\n",
    "- compute the weighted global (field mean) mean\n",
    "- for correctness add the attribute name weights \n",
    "- plot global means with and without weights\n",
    "\n",
    "Compute the weights"
   ]
  },
  {
   "cell_type": "code",
   "execution_count": null,
   "metadata": {},
   "outputs": [],
   "source": [
    "weights = np.cos(np.deg2rad(tsurf.lat))\n",
    "weights.name = \"weights\"\n",
    "#weights"
   ]
  },
  {
   "cell_type": "markdown",
   "metadata": {},
   "source": [
    "Compute the weighted data of the variable tsurf with the xarray.DataArray method `weigthed`."
   ]
  },
  {
   "cell_type": "code",
   "execution_count": null,
   "metadata": {},
   "outputs": [],
   "source": [
    "tsurf_weighted = tsurf.weighted(weights)\n",
    "tsurf_weighted"
   ]
  },
  {
   "cell_type": "markdown",
   "metadata": {},
   "source": [
    "Compute the weighted global mean and keep all attributes."
   ]
  },
  {
   "cell_type": "code",
   "execution_count": null,
   "metadata": {},
   "outputs": [],
   "source": [
    "tsurf_weighted_mean = tsurf_weighted.mean(('lon', 'lat'), keep_attrs=True)\n",
    "tsurf_weighted_mean"
   ]
  },
  {
   "cell_type": "markdown",
   "metadata": {},
   "source": [
    "For comparison we plot the global mean and weighted global mean in the same plot frame. Before we can do this we have to import Matplotlibs pyplot."
   ]
  },
  {
   "cell_type": "code",
   "execution_count": null,
   "metadata": {},
   "outputs": [],
   "source": [
    "plt.figure(figsize=(8,3))\n",
    "plt.ylim(275.,288.)\n",
    "\n",
    "tsurf_weighted_mean.plot(label='weighted')\n",
    "tsurf.mean(('lon', 'lat')).plot(label='unweighted')\n",
    "#day_spatialmean.plot(label='unweighted')\n",
    "\n",
    "plt.legend();"
   ]
  },
  {
   "cell_type": "markdown",
   "metadata": {},
   "source": [
    "This is a good example to demonstrate how important it is to consider the different size of the grid cells o avoid distortion of the data."
   ]
  },
  {
   "cell_type": "markdown",
   "metadata": {},
   "source": [
    "----\n",
    "\n",
    "### Climatology\n",
    "\n",
    "For our next example we use a historical and scenario dataset from CMIP6 that contain more time steps."
   ]
  },
  {
   "cell_type": "code",
   "execution_count": null,
   "metadata": {},
   "outputs": [],
   "source": [
    "dir_data  = \"/work/kv0653/k204045/data/Tutorial_Data/\"\n",
    "# historical data\n",
    "fnameh = \"hist_em_LR_temp2.nc\"\n",
    "# scenario data\n",
    "fname  = \"ssp245_em_LR_temp_1995-2100.nc\""
   ]
  },
  {
   "cell_type": "markdown",
   "metadata": {},
   "source": [
    "First, we extract a 20-year time range (1995-2014)."
   ]
  },
  {
   "cell_type": "code",
   "execution_count": null,
   "metadata": {},
   "outputs": [],
   "source": [
    "dsh = xr.open_dataset(dir_data + fnameh)\n",
    "dsh = dsh.sel(time=slice('1995-01-01','2014-12-31'))"
   ]
  },
  {
   "cell_type": "markdown",
   "metadata": {},
   "source": [
    "Xarray allows us to group the time steps monthly-wise with the `groupby` method and compute the monthly means. "
   ]
  },
  {
   "cell_type": "code",
   "execution_count": null,
   "metadata": {},
   "outputs": [],
   "source": [
    "clim_xr = dsh.groupby('time.month').mean()"
   ]
  },
  {
   "cell_type": "markdown",
   "metadata": {},
   "source": [
    "To account for the different grid cell sizes, we calculate the variable weighted this time.\n",
    "\n",
    "Compute the weights."
   ]
  },
  {
   "cell_type": "code",
   "execution_count": null,
   "metadata": {},
   "outputs": [],
   "source": [
    "weights = np.cos(np.deg2rad(dsh.lat))"
   ]
  },
  {
   "cell_type": "markdown",
   "metadata": {},
   "source": [
    "Compute the weighted data."
   ]
  },
  {
   "cell_type": "code",
   "execution_count": null,
   "metadata": {},
   "outputs": [],
   "source": [
    "clim_xr_wgt = clim_xr.weighted(weights)"
   ]
  },
  {
   "cell_type": "markdown",
   "metadata": {},
   "source": [
    "Compute the spatial mean."
   ]
  },
  {
   "cell_type": "code",
   "execution_count": null,
   "metadata": {},
   "outputs": [],
   "source": [
    "clim_xr_mean = clim_xr_wgt.mean(('lat','lon'))"
   ]
  },
  {
   "cell_type": "markdown",
   "metadata": {},
   "source": [
    "Plot the result."
   ]
  },
  {
   "cell_type": "code",
   "execution_count": null,
   "metadata": {},
   "outputs": [],
   "source": [
    "clim_xr_mean.tas.plot()"
   ]
  },
  {
   "cell_type": "markdown",
   "metadata": {},
   "source": [
    "### Anomaly\n",
    "\n",
    "Open the scenario file and extract the time range 2015-2100."
   ]
  },
  {
   "cell_type": "code",
   "execution_count": null,
   "metadata": {},
   "outputs": [],
   "source": [
    "ds = xr.open_dataset(dir_data + fname)\n",
    "ds = ds.sel(time=slice('2015-01-01','2100-12-31'))"
   ]
  },
  {
   "cell_type": "markdown",
   "metadata": {},
   "source": [
    "Compute the spatial mean of the weighted data."
   ]
  },
  {
   "cell_type": "code",
   "execution_count": null,
   "metadata": {},
   "outputs": [],
   "source": [
    "tas_xr_wgt = ds.tas.weighted(weights).mean(('lat','lon'))"
   ]
  },
  {
   "cell_type": "markdown",
   "metadata": {},
   "source": [
    "Compute the anomaly. This is done by subtracting the monthly climatology from the monthly grouped data."
   ]
  },
  {
   "cell_type": "code",
   "execution_count": null,
   "metadata": {},
   "outputs": [],
   "source": [
    "anom_xr = tas_xr_wgt.groupby('time.month') - clim_xr_mean"
   ]
  },
  {
   "cell_type": "markdown",
   "metadata": {},
   "source": [
    "Compute the yearly means."
   ]
  },
  {
   "cell_type": "code",
   "execution_count": null,
   "metadata": {},
   "outputs": [],
   "source": [
    "anom_xr_ymean = anom_xr.resample(time='Y').mean()"
   ]
  },
  {
   "cell_type": "markdown",
   "metadata": {},
   "source": [
    "Plot the result."
   ]
  },
  {
   "cell_type": "code",
   "execution_count": null,
   "metadata": {},
   "outputs": [],
   "source": [
    "anom_xr_ymean.tas.plot()"
   ]
  },
  {
   "cell_type": "markdown",
   "metadata": {},
   "source": [
    "<br>\n",
    "\n",
    "----\n",
    "----\n",
    "\n",
    "See also:\n",
    "\n",
    "- Project Pythia Computations and Masks with Xarray https://foundations.projectpythia.org/core/xarray/computation-masking.html\n",
    "- Tutorials and Videos https://docs.xarray.dev/en/stable/tutorials-and-videos.html\n",
    "- DKRZ tutorials https://data-infrastructure-services.gitlab-pages.dkrz.de/tutorials-and-use-cases/Tutorials.html\n",
    "- Pangeo Xarray Tutorial http://gallery.pangeo.io/repos/pangeo-data/pangeo-tutorial-gallery/xarray.html\n",
    "- Copernicus https://ecmwf-projects.github.io/copernicus-training-c3s/reanalysis-climatology.html#anomaly-calculation\n"
   ]
  },
  {
   "cell_type": "code",
   "execution_count": null,
   "metadata": {},
   "outputs": [],
   "source": []
  }
 ],
 "metadata": {
  "kernelspec": {
   "display_name": "Python 3 (based on the module python3/unstable",
   "language": "python",
   "name": "python3_unstable"
  },
  "language_info": {
   "codemirror_mode": {
    "name": "ipython",
    "version": 3
   },
   "file_extension": ".py",
   "mimetype": "text/x-python",
   "name": "python",
   "nbconvert_exporter": "python",
   "pygments_lexer": "ipython3",
   "version": "3.10.10"
  }
 },
 "nbformat": 4,
 "nbformat_minor": 4
}
