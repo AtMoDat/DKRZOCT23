{
 "cells": [
  {
   "cell_type": "markdown",
   "id": "2d278e59-c841-4e52-aeda-faa03635f01a",
   "metadata": {},
   "source": [
    "***\n",
    "<p align=\"right\">\n",
    "      <img src=\"https://www.dkrz.de/@@site-logo/dkrz.svg\" width=\"12%\" align=\"right\" title=\"DKRZlogo\" hspace=\"20\">\n",
    "      <img src=\"https://wr.informatik.uni-hamburg.de/_media/logo.png\" width=\"12%\" align=\"right\" title=\"UHHLogo\">\n",
    "</p>\n",
    "<div style=\"font-size: 20px\" align=\"center\"><b> Python Course for Geoscientists, 9-12 October 2023</b></div>\n",
    "<div style=\"font-size: 15px\" align=\"center\">\n",
    "    <b>see also <a href=\"https://gitlab.dkrz.de/pythoncourse/material\">https://gitlab.dkrz.de/pythoncourse/material</a></b>\n",
    "</div>\n",
    "\n",
    "***"
   ]
  },
  {
   "cell_type": "markdown",
   "id": "b752902c-e732-4614-83c8-677a129b6ff9",
   "metadata": {},
   "source": [
    "# Difference between the Supercomputer (HPC) levante and a mobile phone\n",
    "\n",
    "The following only provides a short introduction into computers, compiling, and software.\n",
    "\n",
    "Hardware and Software developed side-by-side starting the first half of the 20th\n",
    "century mainly as industrial tools to push forward automation in production and\n",
    "data assesment and analysis but also from the military area."
   ]
  },
  {
   "cell_type": "markdown",
   "id": "6b23d583-0ea7-4b92-a782-5a5c13c0d0fc",
   "metadata": {},
   "source": [
    "## Hardware\n",
    "Notable mentions:\n",
    "- Z1: first programmable computer by Konrad Zuse around 1937, purely mechanical, privately financed\n",
    "![Z1 image](https://upload.wikimedia.org/wikipedia/commons/thumb/3/34/German_Museum_of_Technology%2C_Berlin_2017_024.jpg/1920px-German_Museum_of_Technology%2C_Berlin_2017_024.jpg \"Z1 in the museum today\")\n",
    "- ENIAC: first programmable electronic computer, 1945-1956, 18000 tubes, Army research Lab\n",
    "![ENIAC image](https://upload.wikimedia.org/wikipedia/commons/d/d3/Glen_Beck_and_Betty_Snyder_program_the_ENIAC_in_building_328_at_the_Ballistic_Research_Laboratory.jpg \"ENIAC\")\n",
    "\n",
    "Mechanical was not reliable, so the rapid miniaturiaztion for electronic parts pushed the computer\n",
    " hardware from tubes to transistors to [microprocessors beginning in the 1960s](https://learn.saylor.org/mod/page/view.php?id=22020)\n",
    "\n",
    "If you are more interested in the history part, check [IBM](https://en.wikipedia.org/wiki/IBM). It shows the close relation between computing, industry, military and society over more than a century."
   ]
  },
  {
   "cell_type": "markdown",
   "id": "64624200-b5e5-4ac7-86c5-cf9a10d92f95",
   "metadata": {},
   "source": [
    "### Basic parts of a computer system\n",
    "\n",
    "Almost all computers follow the so-called [von Neumann architecture](https://upload.wikimedia.org/wikipedia/commons/thumb/e/e5/Von_Neumann_Architecture.svg/720px-Von_Neumann_Architecture.svg.png) from 1945:\n",
    "- Input and Output \n",
    "- Central processing for arithmetics/logics and memory controlling\n",
    "- Memory\n",
    "\n",
    "What a computer can do is basically\n",
    "- write to memory\n",
    "- read from memory\n",
    "- compute with the memory\n",
    "\n",
    "Different chipsets offer different operations with single instructions collected under the term [Assembler or Assembly language](https://en.wikipedia.org/wiki/Assembly_language#Assembler). Hardware architecture you might know: \n",
    "- X86 32/64bit: XBox, Playstation 4/5, Laptops, Desktops, Levante\n",
    "- Arm: smartfon, tablet, recent HPC-systems like Fugaku\n",
    "- MIPS: 64bit, routers\n",
    "- RISC: old SGI HPC systems\n",
    "- PowerPC: based on RISC, IBM PC and HPC systems, Apple hardware before Intel-aera, Playstation 3"
   ]
  },
  {
   "cell_type": "markdown",
   "id": "b724cf70-d34d-40ca-9cdf-1e6fa9599716",
   "metadata": {},
   "source": [
    "### Memory in action\n",
    "\n",
    "input source code in C programming language (file: addition.c)\n",
    "```c\n",
    "#include <stdlib.h>                                                            \n",
    "#include <stdio.h>\n",
    "#include <math.h>\n",
    " \n",
    "int main(int argc, char **argv) {\n",
    "  double x = atof(argv[1]);\n",
    "  double result = x+x;\n",
    "  printf(\"results %f\\n\", result);\n",
    "  return 0;\n",
    "}\n",
    "```\n",
    "\n",
    "Compiling the source code addition.c with `gcc -S addition.c` with different GCC compiler versions on two different systems (Laptop gcc-11.2.0 versions Levante gcc-8.5.0) leads to two slightly different assembly language files. See for example:\n",
    "\n",
    "![Left: laptop gcc-11.2.0 | Right Levante gcc-8.5.0](https://github.com/AtMoDat/DKRZOCT23/blob/main/images/addition-diff.png?raw=true?inline=false \"Left: laptop gcc-11.2.0 | Right Levante gcc-8.5.0\")"
   ]
  },
  {
   "cell_type": "markdown",
   "id": "70e8f61d-09b9-44bf-9d52-1c87563668b6",
   "metadata": {
    "tags": []
   },
   "source": [
    "## Example 1"
   ]
  },
  {
   "cell_type": "markdown",
   "id": "30bdf303-6ed5-49f3-b839-a24281dde7e0",
   "metadata": {},
   "source": [
    "*N.B. In a Jupyter notebook, code cells are interpreted as Python by default.  \n",
    "With %%bash magic command, you indicate that it should be interpreted as Bash (Unix shell) code.*"
   ]
  },
  {
   "cell_type": "markdown",
   "id": "7bc5c7c6-38dc-4d54-b223-4a375b722494",
   "metadata": {},
   "source": [
    "**(a) to compile the source file addition.c into an assembly language file named addition.s rather than producing an executable:**"
   ]
  },
  {
   "cell_type": "code",
   "execution_count": null,
   "id": "fa44d4d9-aca8-417e-9364-f7e5228466b8",
   "metadata": {
    "tags": []
   },
   "outputs": [],
   "source": [
    "%%bash\n",
    "gcc -S addition.c             #-- option -S means: compile only; do not assemble or link.\n",
    "head -12 addition.s           #-- print the first 12 lines of addition.s to the standard output"
   ]
  },
  {
   "cell_type": "markdown",
   "id": "834fed5d-fff7-45b8-a230-d63081ab905e",
   "metadata": {},
   "source": [
    "**(b) to compile the source file addition.c and produce an executable program with the file name \"addition\":**"
   ]
  },
  {
   "cell_type": "code",
   "execution_count": null,
   "id": "712866b1-27f1-4a45-9e45-d7e1cbaa4837",
   "metadata": {
    "tags": []
   },
   "outputs": [],
   "source": [
    "%%bash\n",
    "gcc -o addition addition.c "
   ]
  },
  {
   "cell_type": "markdown",
   "id": "707c0544-988f-4cdb-b3cc-98b09f91ec44",
   "metadata": {},
   "source": [
    "## Exercise 1: Try it out and do an addition with the C exectable"
   ]
  },
  {
   "cell_type": "code",
   "execution_count": null,
   "id": "01acef41-99d3-4ebd-9d5f-e753d51eecb9",
   "metadata": {
    "tags": []
   },
   "outputs": [],
   "source": [
    "%%bash\n",
    "./addition 2.3"
   ]
  },
  {
   "cell_type": "markdown",
   "id": "d62b6612-b29a-4d10-b921-f4c72c1fce7e",
   "metadata": {},
   "source": [
    "### Memory Hierarchy\n",
    "| type | access | size | cost |\n",
    "|--|--|--|--|\n",
    "| registers |5ns |1e2| part of CPU |\n",
    "|caches (SRAM)| 10ns |1e6 | 100.00 $/MB |\n",
    "|main memory (DRAM)| 100ns | 1e9 | 1.00 $/MB|\n",
    "|hard disk |5000ns |1e11  | .05 $/MB|\n",
    "\n",
    "![Cache in real life](https://miro.medium.com/max/538/1*4SZ3hUZHJKCd-mxL2YolQg.png \"memory in real life\")\n",
    "Real Size: 1cmx1cm"
   ]
  },
  {
   "cell_type": "markdown",
   "id": "620750ef-ac81-4008-b333-454a357fbf24",
   "metadata": {},
   "source": [
    "## Software\n",
    "\n",
    "Together with programmable hardware the languages evolved. Hence Konrad Zuse was again the first:\n",
    "[_Plankalkühl_](http://zuse.zib.de/item/DB2j_t_w1fbxvaiq) non-published book from 1945 because of WWII. Another old standing member in the family of programming languages is FORTRAN from 1950s ([Good overview of languages](https://learn.saylor.org/mod/page/view.php?id=22022))\n",
    "\n",
    "Basic goal:\n",
    "- expression of mathematical formual (computation!)\n",
    "- expression of algorithms -> solving problems!"
   ]
  },
  {
   "cell_type": "markdown",
   "id": "3304f293-72ed-40fe-aa22-7454b068459b",
   "metadata": {},
   "source": [
    "## How to put software into action\n",
    "\n",
    "As mentioned above software exists in different abtraction levels but today mostly in the form a text file. In the early days [punch cards](https://en.wikipedia.org/wiki/Punched_card) were used instead because there where easier to read by machines ([Fortran example](https://upload.wikimedia.org/wikipedia/commons/5/58/FortranCardPROJ039.agr.jpg)). But let's stick to text files:"
   ]
  },
  {
   "cell_type": "markdown",
   "id": "b9f39de8-a6ed-4f8d-8508-e3cef34a5411",
   "metadata": {},
   "source": [
    "### Basic compilation process\n",
    "![compilation process](https://miro.medium.com/max/1036/1*wHKe6W4opLmk6pb7sxZz6w.png)\n",
    "\n",
    "The compiler translates the source through several step into a machine language and outputs an executable program, which can then later be used as often as needed. \n",
    "\n",
    "But Python is *NOT* a compiled language! True, the difference is not so huge. Here is how it works with python:\n",
    "\n",
    "![python interpreter process](https://i2.wp.com/techvidvan.com/tutorials/wp-content/uploads/sites/2/2020/03/how-python-interpreter-works.jpg?ssl=1)\n",
    "\n",
    "An interpreter incorporates all necessary steps of the compiler and linker *AND* executes the program. Both methods, Compilation and Interpretation have pros and cons:\n",
    "- compiled programms need to be re-compiled every time the source code is changed\n",
    "- compiled programms contain machine code, only. This gives a big advantage in runtime performance\n",
    "- interpreter don't bother the programer with complex compilation processes and linking problems\n",
    "- programs for an interpreted language are _source code_: very easy to debug and change\n",
    "- the development cycle with an interpreter language is faster, because there is no extra compilation step. Of course there are techniques to combine both types of languages ;-)"
   ]
  },
  {
   "cell_type": "markdown",
   "id": "58c41b34-a3a4-4989-8a0f-9bc1fa4534f3",
   "metadata": {},
   "source": [
    "## Example 2"
   ]
  },
  {
   "cell_type": "markdown",
   "id": "9e940ae6-a9a5-4e4f-b545-d99c1e04fe3c",
   "metadata": {},
   "source": [
    "Example from above in Python programming language (file addition.py)"
   ]
  },
  {
   "cell_type": "markdown",
   "id": "12c7cdf9-1092-47ec-9852-fafa76b862ee",
   "metadata": {},
   "source": [
    "```python\n",
    "import sys\n",
    "x = float(sys.argv[1])\n",
    "result = x+x\n",
    "print(\"result = %s\",result)\n",
    "```"
   ]
  },
  {
   "cell_type": "markdown",
   "id": "ee68abb1-8343-41e8-991b-f5c535a8250d",
   "metadata": {},
   "source": [
    "To add the number 3 to itsself, you can run (compile + execute) the Python script addition.py from a terminal with `python addition.py 3`"
   ]
  },
  {
   "cell_type": "markdown",
   "id": "d9204161-fc3e-476e-a443-e9ffc1958408",
   "metadata": {},
   "source": [
    "## Exercise 2: Try it out and let Python do an addition"
   ]
  },
  {
   "cell_type": "markdown",
   "id": "47a392c7-4fd9-45c9-aa1f-8419e991284a",
   "metadata": {},
   "source": [
    "Try out addition.py with different float or integer input arguments. "
   ]
  },
  {
   "cell_type": "markdown",
   "id": "73744a08-bb62-4449-afb0-29da65c3c590",
   "metadata": {},
   "source": [
    "*%run is a  magic command to execute an external Python script (.py file) from within a Jupyter Notebook cell.*"
   ]
  },
  {
   "cell_type": "code",
   "execution_count": null,
   "id": "ca4feca8-6ab7-4d3b-bf2b-a85b390b770a",
   "metadata": {
    "tags": []
   },
   "outputs": [],
   "source": [
    "%run addition.py -2.5"
   ]
  },
  {
   "cell_type": "markdown",
   "id": "da29a850-6365-4d2d-9705-01ef03583723",
   "metadata": {
    "tags": []
   },
   "source": [
    "*%%bash is a magic command to execute a code cell in a Jupyter Notebook as bash.*"
   ]
  },
  {
   "cell_type": "code",
   "execution_count": null,
   "id": "15dd7d28-3e2c-4e53-887c-756ea0a25f44",
   "metadata": {
    "tags": []
   },
   "outputs": [],
   "source": [
    "%%bash\n",
    "python addition.py 3"
   ]
  },
  {
   "cell_type": "markdown",
   "id": "e5ffd412-492c-4828-bde6-56c4a93d6d78",
   "metadata": {},
   "source": [
    "## Further readings\n",
    "\n",
    "[This collection of free online books](https://www.sciencebooksonline.info/computer-science.html) is a good start"
   ]
  },
  {
   "cell_type": "markdown",
   "id": "e25af7a5-e58d-4b48-b660-118f2f333176",
   "metadata": {},
   "source": [
    "## Levante configuration\n",
    "\n",
    "https://docs.dkrz.de/doc/levante/configuration.html"
   ]
  }
 ],
 "metadata": {
  "kernelspec": {
   "display_name": "likakernel",
   "language": "python",
   "name": "likakernel"
  },
  "language_info": {
   "codemirror_mode": {
    "name": "ipython",
    "version": 3
   },
   "file_extension": ".py",
   "mimetype": "text/x-python",
   "name": "python",
   "nbconvert_exporter": "python",
   "pygments_lexer": "ipython3",
   "version": "3.11.0"
  },
  "toc-autonumbering": true
 },
 "nbformat": 4,
 "nbformat_minor": 5
}
