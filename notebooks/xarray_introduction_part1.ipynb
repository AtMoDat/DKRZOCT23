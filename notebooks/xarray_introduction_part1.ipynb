{
 "cells": [
  {
   "cell_type": "markdown",
   "id": "e81e31bd-f599-448f-93b8-8017e91133ae",
   "metadata": {
    "slideshow": {
     "slide_type": "slide"
    },
    "tags": []
   },
   "source": [
    "![xarray_logo](https://docs.xarray.dev/en/stable/_static/dataset-diagram-logo.png)\n",
    "\n",
    "# Introduction I\n",
    "\n",
    "&copy; Part of **_DKRZ Python Course for Geoscientists_**, licensed by DKRZ under **CC BY-NC-ND 4.0**\n",
    "\n",
    "Xarray home page: https://xarray.pydata.org/en/stable/index.html <br>\n",
    "Xarray documentation: https://docs.xarray.dev/en/stable/index.html\n",
    "\n",
    "\n",
    "**Xarray** is a python package which allows us to handle multi-dimensional datasets in a simple way. It provides a huge set of functions for advanced analytics and visualization. It is part of higher level package ecosystems like [Pangeo](https://pangeo.io/).\n",
    "\n",
    "**Xarray’s** underlying data model is borrowed from the data format [netCDF](http://www.unidata.ucar.edu/software/netcdf). This data format in combination with the [Climate and Forecast metadata conventions](https://cfconventions.org/) (CF) is the standard for the climate science community. A large part of DKRZ’s data is available in netCDF. Therefore, **Xarray** allows fast and intuitive data analysis on this kind of data, but file formats like GRIB, HDF5, and Zarr can also be used.\n",
    "\n",
    "**Xarray** data structure deals with scientific data by using **labels**, **attributes**, **dimensions** and **coordinates**, and extend the capabilities of **NumPy** and **Pandas**.\n"
   ]
  },
  {
   "cell_type": "markdown",
   "id": "6e5188ab",
   "metadata": {
    "slideshow": {
     "slide_type": "slide"
    }
   },
   "source": [
    "## <u>Overview</u>: \n",
    "\n",
    "### Xarray's data model\n",
    "\n",
    "A **data model** describes how the elements of data are organized and standardizes how they relate to one another. On code level, a graph of a data model shows the interconnections of classes, types and methods. **Xarray's** data model consists of the classes **Dataset**, **DataArray**, **Dimension**, **Coordinate** and **Attributes**.\n",
    "\n",
    "----\n",
    "\n",
    "**Dataset** ( dataset or file ): \n",
    "\n",
    "    Dict-like collection of DataArray objects with aligned dimensions. Similar use of variables, dimensions, coordinates, and attributes like for DataArray. You can see an xarray Dataset as a netCDF file like object. Has no data itself but only pointers to DataArrays\n",
    "\n",
    "----\n",
    "\n",
    "**DataArray** ( data array or variable in a file ): \n",
    "\n",
    "    N-dimensional array with dimensions. The objects add dimension names, coordinates, and attibutes to the underlying data structure (numpy and dask arrays).\n",
    "\n",
    "----\n",
    "\n",
    "**Dimensions**: \n",
    "\n",
    "    Named dimension axes, if missing the dimension names are dim_0, dim_1, ...\n",
    "\n",
    "----\n",
    "\n",
    "**Coordinates**: \n",
    "\n",
    "    An array which labels a dimension. Two types are defined \n",
    "    a) dimension coordinates - 1-dimensional coordinate array assigned to the DataArray with a name and dimension name. \n",
    "    b) Non-dimensional coordinate - a coordinate array assigned to DataArray with the name assigned to the coordinates and not to the dimensions.\n",
    "\n",
    "----\n",
    "\n",
    "**Attributes**: \n",
    "\n",
    "    Xarray allows you to attach metadata and attributes to both DataArrays and Datasets. \n",
    "    Metadata can include information about units, descriptions, and any other relevant information about the data.\n",
    "\n",
    "----\n",
    "\n",
    "<br>\n",
    "\n",
    "<img src=\"https://storage.googleapis.com/jnl-up-j-jors-files/journals/1/articles/148/submission/proof/148-10-1829-1-17-20170405.png\" alt=\"xarray data structure\" border=1 width=900></img> \n",
    "<figcaption align = \"center\"> An overview of xarray’s main data structures. From Hoyer and Hamman (2017); DOI: 10.5334/jors.148 </figcaption>\n",
    "<br>"
   ]
  },
  {
   "cell_type": "markdown",
   "id": "16667921-d50c-459b-a250-7cbc10846a8a",
   "metadata": {},
   "source": [
    "### N-dimensional arrays\n",
    "\n",
    "- a 1-dimensional array is of shape(n,)\n",
    "- a 2-dimensional array is of shape(n,m)\n",
    "- a 3-dimensional array is of shape(n,m,k)\n",
    "- a 4-dimensional array is of shape(n,m,k,l)\n",
    "\n",
    "Python is **'row major'** which means that the `left dimension varies slowest` and the `right dimension varies fastest`. That's the case why the geo-referenced data have often the dimension order (time, level, lat, lon)."
   ]
  },
  {
   "cell_type": "code",
   "execution_count": null,
   "id": "d950f344-668a-4928-a744-08f3f92902e9",
   "metadata": {},
   "outputs": [],
   "source": [
    "%%html\n",
    "<table align=\"left\">\n",
    "    <tr><td><img src=\"../images/x_y_array_1d.png\" alt=\"xy_1d\" border=1 width=300> </img> 1-dimensional </td>\n",
    "        <td><img src=\"../images/var_xy_array_2d.png\" alt=\"var_2d\" border=1 width=400>  2-dimensional </img> </td></tr>\n",
    "    <tr><td><img src=\"../images/var_xyt_array_3d.png\" alt=\"var_3d\" border=1 width=400>  3-dimensional </img> </td>\n",
    "        <td><img src=\"../images/var_tzyx_array_4d.png\" alt=\"var_4d\" border=1 width=400>  4-dimensional </img> </td></tr>\n",
    "</table>"
   ]
  },
  {
   "cell_type": "markdown",
   "id": "d5bf9dc7",
   "metadata": {
    "slideshow": {
     "slide_type": "slide"
    }
   },
   "source": [
    "## Importing modules\n",
    "\n",
    "In this notebook we work with the Python libraries NumPy, Pandas, Xarray and cfgrib. \n"
   ]
  },
  {
   "cell_type": "code",
   "execution_count": null,
   "id": "79240aa7",
   "metadata": {
    "slideshow": {
     "slide_type": "subslide"
    }
   },
   "outputs": [],
   "source": [
    "import xarray as xr\n",
    "import numpy as np\n",
    "import pandas as pd\n",
    "import cfgrib\n",
    "from datetime import datetime"
   ]
  },
  {
   "cell_type": "markdown",
   "id": "c4fc03a0-d544-4e6d-aefc-9e66e5b010db",
   "metadata": {},
   "source": [
    "## DataArray\n",
    "\n",
    "The `DataArray` of **Xarray** is the implementation of a labeled multi-dimensional array.\n",
    "\n",
    "To see what this means, we start with the creation of a simple DataArray that is based on an NumPy ndarray.\n",
    "\n",
    "Create NumPy _ndarray_ with shape(4,5):"
   ]
  },
  {
   "cell_type": "code",
   "execution_count": null,
   "id": "3744f16b-3b33-4fd2-a308-45ec4e121db4",
   "metadata": {},
   "outputs": [],
   "source": [
    "array = np.arange(1,21).reshape(4,5)\n",
    "array"
   ]
  },
  {
   "cell_type": "markdown",
   "id": "383fabdc-978c-45ed-ad1e-c4bd3c98d8ad",
   "metadata": {},
   "source": [
    "Now, we can use the function `xr.DataArray()` to create a DataArray from the NumPy array above."
   ]
  },
  {
   "cell_type": "code",
   "execution_count": null,
   "id": "986cd1aa-d4d8-44cb-91a5-00ecdae30612",
   "metadata": {},
   "outputs": [],
   "source": [
    "da = xr.DataArray(array)\n",
    "da"
   ]
  },
  {
   "cell_type": "markdown",
   "id": "f9bbb85d-55c4-4807-bf51-0e43fadcb18f",
   "metadata": {},
   "source": [
    "As you can see, the `xr.DataArray()` adds two dimensions named **dim_0** and **dim_1** to the new data array structure. When the function `xr.DataArray()` is used, it returns a data object with some presettings like Coordinates, Indexes and Attributes. In our case these are empty because we did not declared them yet. You can either add them in the `xr.DataArray()` function call or afterwards.\n",
    "Also, you can specify the name of the dimensions when creating the DataArray with `xr.DaraArray` or afterwards using the `rename` method. Note: `rename` returns a new DataArray object."
   ]
  },
  {
   "cell_type": "code",
   "execution_count": null,
   "id": "e433b8dc-704b-48ab-841f-8d6f03d403ba",
   "metadata": {},
   "outputs": [],
   "source": [
    "da = da.rename({'dim_0':'y','dim_1':'x'})\n",
    "da"
   ]
  },
  {
   "cell_type": "markdown",
   "id": "81fc704b-72e0-472d-832e-e13e5731b6b6",
   "metadata": {},
   "source": [
    "In the next step we assign the arrays x and y which we want to use as coordinates for our DataArray."
   ]
  },
  {
   "cell_type": "code",
   "execution_count": null,
   "id": "06c9b6d7-4902-454e-aaf6-ea8c0bd3f260",
   "metadata": {},
   "outputs": [],
   "source": [
    "x = np.arange(0., 21., 5.)\n",
    "y = np.arange(0., 20., 5.)\n",
    "\n",
    "print(x, y)"
   ]
  },
  {
   "cell_type": "markdown",
   "id": "e3e071e7-e5f4-40ea-a1ac-c79bfc171c51",
   "metadata": {},
   "source": [
    "Xarrays allows us to do the following steps within one `xr.DataArray()` call:\n",
    "\n",
    "- the first dimension should be 'y' and the second 'x'\n",
    "- use the same names as for dims for the coords\n",
    "- assign values to the coords\n",
    "- define the attribute 'standard_name', see https://cfconventions.org/Data/cf-standard-names/current/build/cf-standard-name-table.html;   \n",
    "  we assume that our DataArray represents a variable with the the standard_name 'age_of_sea_ice' "
   ]
  },
  {
   "cell_type": "code",
   "execution_count": null,
   "id": "fbfdd85c-2e60-4bb6-9250-fed8e781a073",
   "metadata": {},
   "outputs": [],
   "source": [
    "da = xr.DataArray(array, \n",
    "                  dims=('y','x'), \n",
    "                  coords={'y': y, 'x': x},\n",
    "                  attrs={'standard_name':'age_of_sea_ice'})\n",
    "da"
   ]
  },
  {
   "cell_type": "markdown",
   "id": "532664b1-1317-40de-8893-f64f8a46443b",
   "metadata": {},
   "source": [
    "It is also possible to name the DataArray itself, e.g. 'var'. You can set it when the DataArray is defined or you can add it later."
   ]
  },
  {
   "cell_type": "code",
   "execution_count": null,
   "id": "9a8cdbc8-92e1-4026-8b07-fd378c15149d",
   "metadata": {},
   "outputs": [],
   "source": [
    "da = xr.DataArray(array, \n",
    "                  name='var',\n",
    "                  dims=('y','x'), \n",
    "                  coords={'y': y, 'x': x},\n",
    "                  attrs={'standard_name':'age_of_sea_ice'})\n",
    "da"
   ]
  },
  {
   "cell_type": "markdown",
   "id": "5d2ef647-dcb7-41dd-a397-e6df806f3236",
   "metadata": {},
   "source": [
    "Change the DataArray name of an already existing DataArray to 'var2'."
   ]
  },
  {
   "cell_type": "code",
   "execution_count": null,
   "id": "467cc1cc-65a2-4875-9611-22f946c55ce8",
   "metadata": {},
   "outputs": [],
   "source": [
    "da.name = 'var2'\n",
    "\n",
    "#print(da)\n",
    "da"
   ]
  },
  {
   "cell_type": "markdown",
   "id": "9a67740a-7073-4253-a933-ddae31b5635b",
   "metadata": {},
   "source": [
    "<br>\n",
    "\n",
    "To add another attribute to the DataArray use attrs, for instance set the units attribute."
   ]
  },
  {
   "cell_type": "code",
   "execution_count": null,
   "id": "4acdb9b1-d10b-4f4e-8a32-45bafd5c1f98",
   "metadata": {},
   "outputs": [],
   "source": [
    "da.attrs['units'] = 'year'\n",
    "\n",
    "da"
   ]
  },
  {
   "cell_type": "markdown",
   "id": "346d20bc-c44d-4732-a2dd-b6b21507b71e",
   "metadata": {},
   "source": [
    "### Expand dimensions\n",
    "\n",
    "You can add a dimension, e.g. time, to the already existing DataArray with `DataArray.expand_dims()`. In the next example, we add a time dimension of length 2 with values 1 and 2 to our DataArray."
   ]
  },
  {
   "cell_type": "code",
   "execution_count": null,
   "id": "150fdf6d-770d-4741-8a29-ca4ca3db2b69",
   "metadata": {},
   "outputs": [],
   "source": [
    "time = [1,2]\n",
    "\n",
    "da.expand_dims({'time':time}, axis=0)"
   ]
  },
  {
   "cell_type": "markdown",
   "id": "8c8aa296-5fcb-49fa-8309-bbe65f3e303d",
   "metadata": {},
   "source": [
    "The time dimension and its data is added to the DataArray but as we can see the data array itself is duplicated. This is caused by the fact that our input data **array** is of shape(4,5) (which can be reshaped into (1,4,5)) but now it has the shape(2,4,5). The _missing_ data for the second time step is copied from the first timestep."
   ]
  },
  {
   "cell_type": "markdown",
   "id": "6b38c69c-e6fe-4e06-a8f0-f27f67b333d3",
   "metadata": {},
   "source": [
    "Note that the DataArray.expand_dims() just **returns** a DataArray with this new dimension, it does not replace it."
   ]
  },
  {
   "cell_type": "code",
   "execution_count": null,
   "id": "417da472-bdd0-4857-a29a-3f122ad23ee9",
   "metadata": {},
   "outputs": [],
   "source": [
    "da"
   ]
  },
  {
   "cell_type": "markdown",
   "id": "3bf92ff6-df4b-41c2-a646-bbd2cd74d24c",
   "metadata": {},
   "source": [
    "We therefore update our variable _da_ by assigning the returned DataArray."
   ]
  },
  {
   "cell_type": "code",
   "execution_count": null,
   "id": "f2202f0b-dec4-4078-abc3-a8d080beda0b",
   "metadata": {},
   "outputs": [],
   "source": [
    "da = da.expand_dims({'time':time}, axis=0)\n",
    "\n",
    "da"
   ]
  },
  {
   "cell_type": "markdown",
   "id": "3f1250bc-3a03-4c92-b207-435a903289df",
   "metadata": {},
   "source": [
    "To retrieve the shape of the DataArray use the shape or size property."
   ]
  },
  {
   "cell_type": "code",
   "execution_count": null,
   "id": "0f702241-0ca8-469a-9fc8-355ec8b53298",
   "metadata": {},
   "outputs": [],
   "source": [
    "da.shape"
   ]
  },
  {
   "cell_type": "code",
   "execution_count": null,
   "id": "2b1ea8c1-516b-4885-9445-159b554695ac",
   "metadata": {},
   "outputs": [],
   "source": [
    "da.sizes"
   ]
  },
  {
   "cell_type": "markdown",
   "id": "3a300235-4584-4722-b654-97a76b571082",
   "metadata": {},
   "source": [
    "The result shows that we now have two time steps and a 3-dimensional array with the dimensions time, y and x  while our input data, before expand_dims, was a 2-dimensional array. "
   ]
  },
  {
   "cell_type": "markdown",
   "id": "f5bb98fb-d453-4ef2-b536-ffa98c1f8c02",
   "metadata": {},
   "source": [
    "<br>\n",
    "\n",
    "----\n",
    "\n",
    "<b><font size=\"+3\" color=\"#ff0000\">Exercise: </font></b> \n",
    "\n",
    "Make yourself familiar with `xr.DataArray`\n",
    "\n",
    "1. generate an Xarray DataArray\n",
    "2. add some attributes, including a standard_name attribute\n",
    "3. change the default dimension names and add coordinate values\n",
    "4. create the same DataArray with just one call of xr.DataArray"
   ]
  },
  {
   "cell_type": "code",
   "execution_count": null,
   "id": "ed37edda-48b4-4447-954f-e0779b19dd11",
   "metadata": {},
   "outputs": [],
   "source": [
    "# 1.\n"
   ]
  },
  {
   "cell_type": "code",
   "execution_count": null,
   "id": "bcd00fc9-eec6-4341-baf4-5b1fa5ea66d6",
   "metadata": {},
   "outputs": [],
   "source": [
    "# 2. \n"
   ]
  },
  {
   "cell_type": "code",
   "execution_count": null,
   "id": "04d2be73-0c53-4cd9-929d-ebd0a3a153d9",
   "metadata": {},
   "outputs": [],
   "source": [
    "# 3. \n"
   ]
  },
  {
   "cell_type": "code",
   "execution_count": null,
   "id": "b3492698-e9e4-460a-bc2a-29c13dbf320d",
   "metadata": {},
   "outputs": [],
   "source": [
    "# 4.\n"
   ]
  },
  {
   "cell_type": "markdown",
   "id": "b3bd0f5b-8e7e-4aed-963d-fc36154430ac",
   "metadata": {
    "tags": []
   },
   "source": [
    "<br>\n",
    "\n",
    "#### Solution\n"
   ]
  },
  {
   "cell_type": "code",
   "execution_count": null,
   "id": "06078ba7-53e5-489c-8f0c-8c6b41168e6c",
   "metadata": {},
   "outputs": [],
   "source": [
    "# 1. generate an Xarray DataArray\n",
    "\n",
    "np.random.seed(100000)\n",
    "nt   = 5\n",
    "\n",
    "data = xr.DataArray(np.random.random((nt,4,5)))"
   ]
  },
  {
   "cell_type": "code",
   "execution_count": null,
   "id": "10c8e399-6de1-40c9-a8b0-b72237e477ee",
   "metadata": {},
   "outputs": [],
   "source": [
    "# 2. add some attributes\n",
    "\n",
    "data.attrs['my_attr']       = 'my new attribute'\n",
    "data.attrs['creation_date'] = datetime.today().strftime('%Y-%m-%d')"
   ]
  },
  {
   "cell_type": "code",
   "execution_count": null,
   "id": "d8f2b110-b5fe-42fb-87a3-7768c20f5c65",
   "metadata": {},
   "outputs": [],
   "source": [
    "# 3. change the default dimension names and add coordinate values\n",
    "\n",
    "data    = data.rename({'dim_0':'t', 'dim_1':'y', 'dim_2':'x'})"
   ]
  },
  {
   "cell_type": "code",
   "execution_count": null,
   "id": "59c1b03d-b2bc-482d-a86e-58e4597ded2d",
   "metadata": {
    "tags": []
   },
   "outputs": [],
   "source": [
    "# 4. create the same DataArray with just one call of xr.DataArray\n",
    "\n",
    "nt      = 5\n",
    "np.random.seed(100000)\n",
    "data    = np.random.random((nt,4,5)) * 2000\n",
    "\n",
    "data_xr = xr.DataArray(data, \n",
    "                      dims=('index', 'axis_x','axis_y'), \n",
    "                      coords={'index': np.arange(1,nt+1), \n",
    "                             'axis_x': [2, 4, 6, 8], \n",
    "                             'axis_y': [1,2,3,4,5]},\n",
    "                      attrs={'standard_name':'fire_temperature',\n",
    "                             'units':'K', \n",
    "                             'comment': 'Random data min=0., max=2000.'})\n",
    "#data_xr"
   ]
  },
  {
   "cell_type": "markdown",
   "id": "2743d4dd",
   "metadata": {
    "slideshow": {
     "slide_type": "slide"
    },
    "tags": []
   },
   "source": [
    "<br>\n",
    "\n",
    "----\n",
    "\n",
    "## More about DataArrays\n",
    "\n",
    "Let's first compare a NumPy array with a Xarray DataArray. You can directly convert a NumPy array into an Xarray DataArray type by using it as input for Xarray's function `xr.DataArray`. We use the _atmosphere water vapor content_ data from the file `../data/prw.dat` by loading it with NumPy.\n"
   ]
  },
  {
   "cell_type": "markdown",
   "id": "132c2c56-91cc-4ac6-a245-cabe5838f48f",
   "metadata": {},
   "source": [
    "Show the first 5 lines of the ascii input file"
   ]
  },
  {
   "cell_type": "code",
   "execution_count": null,
   "id": "56fb99e3",
   "metadata": {},
   "outputs": [],
   "source": [
    "!head -5 ../data/prw.dat"
   ]
  },
  {
   "cell_type": "markdown",
   "id": "8442edcb-3150-4f45-aba5-ddc30d094097",
   "metadata": {},
   "source": [
    "Read columns 1 to 3 of the input file while skipping the header"
   ]
  },
  {
   "cell_type": "code",
   "execution_count": null,
   "id": "cc5e297c-18be-480b-acd5-251c02487248",
   "metadata": {},
   "outputs": [],
   "source": [
    "prw_data = np.loadtxt('../data/prw.dat', usecols=(1,2,3), skiprows=1)\n",
    "prw_data"
   ]
  },
  {
   "cell_type": "markdown",
   "id": "176c65ae-ecc4-4888-b842-5242c38dd753",
   "metadata": {},
   "source": [
    "Convert the numpy array into an Xarray DataArray"
   ]
  },
  {
   "cell_type": "code",
   "execution_count": null,
   "id": "9072d2cf-9f24-4d68-bcfa-cc923e22d06b",
   "metadata": {},
   "outputs": [],
   "source": [
    "prw_data_xr = xr.DataArray(prw_data)\n",
    "prw_data_xr"
   ]
  },
  {
   "cell_type": "code",
   "execution_count": null,
   "id": "cf189b78-b491-4149-9b37-15987d189489",
   "metadata": {
    "tags": []
   },
   "outputs": [],
   "source": [
    "prw_data_xr.attrs"
   ]
  },
  {
   "cell_type": "markdown",
   "id": "df931aaf",
   "metadata": {
    "slideshow": {
     "slide_type": "subslide"
    }
   },
   "source": [
    "`prw_data_xr` has got more structure and descriptive information than `prw_data`. In contrast to the `NumPy` data array, the `Xarray` DataArray can separate the variable of interest, `prw`, as a *data variable* from *coordinate* variables since the `Xarray` DataArray has the Classes:\n",
    "\n",
    "- **dimensions** with names               (`prw_data_xr.dims`)\n",
    "- **coordinates** pointing to variables   (`prw_data_xr.coords`)\n",
    "- **attributes**                          (`prw_data_xr.attrs`)\n"
   ]
  },
  {
   "cell_type": "markdown",
   "id": "7cdba197",
   "metadata": {
    "slideshow": {
     "slide_type": "subslide"
    }
   },
   "source": [
    "This information is not correctly parsed from the input NumPy array when executing `xr.DataArray()`, but we configure them in the call `xr.DataArray()` via the function parameters (arguments + keyword arguments):\n",
    "\n",
    "```python\n",
    "xr.DataArray(data,\n",
    "             coords=,\n",
    "             dims=,\n",
    "             name=,\n",
    "             attrs=,\n",
    "            )\n",
    "```"
   ]
  },
  {
   "cell_type": "markdown",
   "id": "7444d69a",
   "metadata": {
    "slideshow": {
     "slide_type": "subslide"
    }
   },
   "source": [
    "<div class=\"alert alert-info\">\n",
    "    <b>Note:</b> When working with <b>xarray</b>, the arguments and keyword arguments for a function are <i>in general</i> very usefull and important!\n",
    "</div>"
   ]
  },
  {
   "cell_type": "markdown",
   "id": "d155a99a-ac6e-4e6b-91fd-a6abc37c6082",
   "metadata": {},
   "source": [
    "The configuration of coordinate values is not only important for `Xarray` but also other software tools since **labeled geospatial** information from coordinates is required, e.g. for\n",
    "\n",
    "- **plotting**: mapping of data on a real world grid point\n",
    "- **analysis**: routines e.g. calculating area **weighted means**\n"
   ]
  },
  {
   "cell_type": "markdown",
   "id": "a73b863b",
   "metadata": {
    "slideshow": {
     "slide_type": "slide"
    }
   },
   "source": [
    "### Parsing NumPy data with labels to xarray\n",
    "\n",
    "Let's define a clear structure for the `xarray.DataArray()` for the NumPy data first:\n",
    "\n",
    "1. The actual **data** for the data variable is in the first column of the NumPy array.\n",
    "2. The **coords** are the second and third column of the NumPy array. They have the same dimension as the data array.\n",
    "3. We have one dimension (**dims**) which refers to the **_station_**. It is an index which runs from 0 to the length of the a column minus 1.\n",
    "4. The **name** of the data variable is **prw**.\n",
    "5. In the **attrs**, we can store variable attributes like **_units_**. The **standard_name** of prw is **_atmosphere_mass_content_of_water_vapor_**; the corresponding canonical units is **_kg m-2_**.\n",
    "\n",
    "Let's bring that into context with `xr.DataArray()`:"
   ]
  },
  {
   "cell_type": "code",
   "execution_count": null,
   "id": "bdd57e5c",
   "metadata": {},
   "outputs": [],
   "source": [
    "prw_data_xr = xr.DataArray(prw_data[:,2],\n",
    "                           coords={\"lat\":(\"Station\", prw_data[:,0]),\n",
    "                                   \"lon\":(\"Station\", prw_data[:,1])},\n",
    "                           dims=[\"Station\"],\n",
    "                           name=\"prw\",\n",
    "                           attrs={\"units\":\"kg m-2\",\n",
    "                                  \"standard_name\":\"atmosphere_mass_content_of_water_vapor\"})\n",
    "prw_data_xr"
   ]
  },
  {
   "cell_type": "code",
   "execution_count": null,
   "id": "de946f3f",
   "metadata": {
    "slideshow": {
     "slide_type": "subslide"
    }
   },
   "outputs": [],
   "source": [
    "print(\"Variable Name: \", prw_data_xr.name)\n",
    "print(\"Dimensions:    \", prw_data_xr.dims)\n",
    "print(\"Coordinates:   \", prw_data_xr.coords)\n",
    "print(\"Sizes:         \", prw_data_xr.sizes)\n",
    "print(\"Attribute:     \", prw_data_xr.attrs)"
   ]
  },
  {
   "cell_type": "markdown",
   "id": "c32d2480",
   "metadata": {
    "slideshow": {
     "slide_type": "slide"
    }
   },
   "source": [
    "### Dimensions\n",
    "\n",
    "Dimensions are **indices** covering an interval of the length of the dimension.\n",
    "\n",
    "In our example, we only have one dimension where each index refers to one **station**. However, if we create a quick plot of the data with the function `xr.DataArray.plot()`, we only get a one dimensional view:"
   ]
  },
  {
   "cell_type": "code",
   "execution_count": null,
   "id": "206c9984",
   "metadata": {
    "slideshow": {
     "slide_type": "subslide"
    }
   },
   "outputs": [],
   "source": [
    "prw_data_xr.plot();"
   ]
  },
  {
   "cell_type": "markdown",
   "id": "1f9d1a71-cfec-4402-942e-27dde0d58102",
   "metadata": {
    "slideshow": {
     "slide_type": "slide"
    }
   },
   "source": [
    "#### Create a two dimensional georeferenced plot\n",
    "\n",
    "Our next goal is to reorganize the data so that `prw_data_xr.plot()` returns a meshed grid plot.\n",
    "\n",
    "For that, we create a less condensed **two-dimensional** DataArray (with a lot of `NaN` values). \n",
    "\n",
    "<br />\n",
    "\n",
    "<h2 style=\"color:red\"> Exercise </h2>\n",
    "\n",
    "1. Create a two dimensional NumPy with the size `len(prw_data)` x `len(prw_data)`\n",
    "\n",
    "1. Assign `NaN` values to the entire array\n",
    "\n",
    "1. On the diagonal of the quadratic array, insert the values of `prw_data`\n",
    "\n",
    "1. Show the new data frame\n",
    "\n",
    "<br>\n",
    "\n",
    "You will need:\n",
    "\n",
    "- `np.full()` or `np.empty()`\n",
    "- `np.Nan`\n",
    "- use a `for` loop\n"
   ]
  },
  {
   "cell_type": "code",
   "execution_count": null,
   "id": "e0717073",
   "metadata": {
    "slideshow": {
     "slide_type": "subslide"
    }
   },
   "outputs": [],
   "source": [
    "# 1.\n"
   ]
  },
  {
   "cell_type": "code",
   "execution_count": null,
   "id": "ce710f31-2f89-4a0a-9a67-24a725f01103",
   "metadata": {},
   "outputs": [],
   "source": [
    "# 2.\n"
   ]
  },
  {
   "cell_type": "code",
   "execution_count": null,
   "id": "4baf6447-377d-4abb-88ac-4dbc55efa73c",
   "metadata": {},
   "outputs": [],
   "source": [
    "# 3.\n"
   ]
  },
  {
   "cell_type": "code",
   "execution_count": null,
   "id": "cb219687-61e8-48e3-9dc6-41af54e0618e",
   "metadata": {},
   "outputs": [],
   "source": [
    "# 4.\n"
   ]
  },
  {
   "cell_type": "markdown",
   "id": "f75d2261-bf09-4f48-b3fa-4ebe004a5b05",
   "metadata": {},
   "source": [
    "<br>\n",
    "\n",
    "#### Solution"
   ]
  },
  {
   "cell_type": "code",
   "execution_count": null,
   "id": "a071554f-ff6a-4fd5-bd81-8ecf8b33a895",
   "metadata": {},
   "outputs": [],
   "source": [
    "# 1. and 2.\n",
    "prw_data_2d = np.full([len(prw_data),len(prw_data)], np.nan)\n",
    "\n",
    "# another way to generate the prw_data_2d\n",
    "#prw_data_2d = np.empty([len(prw_data),len(prw_data)]) * np.nan"
   ]
  },
  {
   "cell_type": "code",
   "execution_count": null,
   "id": "daf21374-4bb0-4305-9479-853d90b422f3",
   "metadata": {},
   "outputs": [],
   "source": [
    "# 3. \n",
    "for i in range(0, len(prw_data)):\n",
    "    prw_data_2d[i,i] = prw_data[i,2]\n",
    "    \n",
    "print(prw_data_2d)"
   ]
  },
  {
   "cell_type": "code",
   "execution_count": null,
   "id": "b76a650e-8fd4-4249-9e5a-d166eefe294c",
   "metadata": {},
   "outputs": [],
   "source": [
    "# 4. \n",
    "xr.DataArray(prw_data_2d).plot()"
   ]
  },
  {
   "cell_type": "markdown",
   "id": "211d4eb6",
   "metadata": {
    "slideshow": {
     "slide_type": "subslide"
    }
   },
   "source": [
    "<br>\n",
    "\n",
    "<h2 style=\"color:red\"> Exercise </h2>\n",
    "\n",
    "Let's pass this DataArray to **Xarray**.\n",
    "\n",
    "1. Reset the variable `pwr_data_xr` with a `xr.DataArray()` but use `prw_data_2d` as input.<br>\n",
    "   **Hint**: Set the dims to \\[\"lat\",\"lon\"\\]. Coordinate and dimension names have to be the same.\n",
    "2. Plot again\n",
    "\n",
    "<br>\n"
   ]
  },
  {
   "cell_type": "code",
   "execution_count": null,
   "id": "c6a5954b",
   "metadata": {
    "slideshow": {
     "slide_type": "subslide"
    }
   },
   "outputs": [],
   "source": [
    "# 1.\n"
   ]
  },
  {
   "cell_type": "code",
   "execution_count": null,
   "id": "f7a69330-b974-476d-b12f-4c011da36f9d",
   "metadata": {},
   "outputs": [],
   "source": [
    "# 2.\n"
   ]
  },
  {
   "cell_type": "markdown",
   "id": "cad81b75-81aa-44bc-90d9-44392046df2a",
   "metadata": {
    "tags": []
   },
   "source": [
    "<br>\n",
    "\n",
    "\n",
    "#### Solution"
   ]
  },
  {
   "cell_type": "code",
   "execution_count": null,
   "id": "0e51ca28-cf0d-4e06-b5f8-32e834246aeb",
   "metadata": {
    "tags": []
   },
   "outputs": [],
   "source": [
    "# 1.\n",
    "\n",
    "prw_data_xr = xr.DataArray(prw_data_2d,\n",
    "                           coords={\"lat\": prw_data[:,0],\n",
    "                                   \"lon\": prw_data[:,1]},\n",
    "                           dims=[\"lat\",\"lon\"],\n",
    "                           name=\"prw\",\n",
    "                           attrs={\"units\":\"kg m-2\",\n",
    "                                  \"standard_name\":\"atmosphere_mass_content_of_water_vapor\"})\n",
    "print(prw_data_xr)"
   ]
  },
  {
   "cell_type": "code",
   "execution_count": null,
   "id": "367b4688-5099-4566-90f4-d7c0e21ce5e9",
   "metadata": {
    "tags": []
   },
   "outputs": [],
   "source": [
    "# 2. his leads to an error\n",
    "\n",
    "prw_data_xr.plot()"
   ]
  },
  {
   "cell_type": "markdown",
   "id": "79102445",
   "metadata": {
    "slideshow": {
     "slide_type": "slide"
    },
    "tags": []
   },
   "source": [
    "An error occurs due to the fact that we have station data that do not have ascending or descending coordinate values. The **ValueError** at the end of the error message gives you the hint to use `sortby` to solve the error.\n",
    "\n",
    "The plot only uses the indices of the dimensions for the x and y axes of the plot. This is because the **coordinates** 'lat' and 'lon' are not interpreted as **_index coordinates_**. **Xarray** will interpete coordinates as **index coordinates** only if the name of the coordinate is the same as the name of the dimension. "
   ]
  },
  {
   "cell_type": "code",
   "execution_count": null,
   "id": "474826b0-c5bc-4e12-a6ae-0e4774127cd0",
   "metadata": {
    "tags": []
   },
   "outputs": [],
   "source": [
    "# 2. correct way\n",
    "\n",
    "prw_data_xr = prw_data_xr.sortby(['lon','lat'])\n",
    "prw_data_xr.plot()\n",
    "\n",
    "\n",
    "print(prw_data_xr.lon.min().data, prw_data_xr.lon.max().data)\n",
    "print(prw_data_xr.lat.min().data, prw_data_xr.lat.max().data)\n",
    "print(prw_data_xr.min().data, prw_data_xr.max().data)"
   ]
  },
  {
   "cell_type": "markdown",
   "id": "636f7b70",
   "metadata": {
    "slideshow": {
     "slide_type": "subslide"
    }
   },
   "source": [
    "<br>\n",
    "\n",
    "We created a simple plot which gives us an idea of for which locations we have valid station data using only few **Xarray** commands. In the session Visualization Part 2., we will learn a more sophisticated plotting including e.g. *coastlines*.\n",
    "\n",
    "Here is a taste:\n",
    "\n",
    "<br>"
   ]
  },
  {
   "cell_type": "code",
   "execution_count": null,
   "id": "620c0585",
   "metadata": {
    "slideshow": {
     "slide_type": "skip"
    }
   },
   "outputs": [],
   "source": [
    "import cartopy.crs as ccrs\n",
    "import matplotlib.pyplot as plt\n",
    "\n",
    "proj    = ccrs.PlateCarree()                            # choose map projection\n",
    "\n",
    "fig, ax = plt.subplots(figsize=(12,8), subplot_kw={'projection':proj})\n",
    "ax.set_extent([-105, -80, 25, 41], proj)\n",
    "ax.stock_img()                                          # add satellite image\n",
    "ax.gridlines(draw_labels=True, color='None', zorder=0)  # turn on axis label, turn off gridlines\n",
    "ax.coastlines()                                         # add coastlines\n",
    "\n",
    "prw_data_xr.plot(cmap='Reds', cbar_kwargs=dict(shrink=0.6)) ; # decrease colorbar size"
   ]
  },
  {
   "cell_type": "markdown",
   "id": "1956f70a",
   "metadata": {
    "slideshow": {
     "slide_type": "subslide"
    }
   },
   "source": [
    "<h2 style=\"color:red\"> Exercise </h2>\n",
    "\n",
    "Play a bit with the Xarray DataArray and use the DataArray **prw_data_xr** from above\n",
    "\n",
    "1. add a variable long_name attribute  \n",
    "   (name it as you like, but be aware that many plotting routines parse the long_name to plot the labels ;))\n",
    "2. change the standard_name and variable name\n",
    "3. add more attributes and print them all\n",
    "\n",
    "<br>"
   ]
  },
  {
   "cell_type": "code",
   "execution_count": null,
   "id": "33b94877",
   "metadata": {},
   "outputs": [],
   "source": [
    "# 1.\n"
   ]
  },
  {
   "cell_type": "code",
   "execution_count": null,
   "id": "f6e4fee9-1189-45ea-bebb-a64479810e20",
   "metadata": {},
   "outputs": [],
   "source": [
    "# 2.\n"
   ]
  },
  {
   "cell_type": "code",
   "execution_count": null,
   "id": "df5a1a73-a371-4a2e-9755-a5a552e46c98",
   "metadata": {},
   "outputs": [],
   "source": [
    "# 3.\n"
   ]
  },
  {
   "cell_type": "markdown",
   "id": "bf0c4d90-8058-4828-b5d6-195ac6b89ce7",
   "metadata": {
    "tags": []
   },
   "source": [
    "<br>\n",
    "\n",
    "#### Solution"
   ]
  },
  {
   "cell_type": "code",
   "execution_count": null,
   "id": "56a48e8e-22dc-41f0-b9a8-95544dc10a08",
   "metadata": {
    "tags": []
   },
   "outputs": [],
   "source": [
    "# 1.\n",
    "prw_data_xr.attrs['long_name'] = 'This is the variables long_name'"
   ]
  },
  {
   "cell_type": "code",
   "execution_count": null,
   "id": "3b3072d1-0209-4246-8ac7-5f463b399def",
   "metadata": {
    "tags": []
   },
   "outputs": [],
   "source": [
    "# 2.\n",
    "prw_data_xr['standard_name'] = 'area_fraction'\n",
    "prw_data_xr.name = 'variable_A'"
   ]
  },
  {
   "cell_type": "code",
   "execution_count": null,
   "id": "cd30d47e-98da-40ad-9fb5-4f08b49e7515",
   "metadata": {
    "tags": []
   },
   "outputs": [],
   "source": [
    "# 3. \n",
    "prw_data_xr.attrs['created_by'] = 'DKRZ Python Course'\n",
    "prw_data_xr.attrs"
   ]
  },
  {
   "cell_type": "markdown",
   "id": "c7b077fa-2b15-49d4-8ee2-f9845b7d1836",
   "metadata": {},
   "source": [
    "----\n",
    "## Dataset\n",
    "\n",
    "An Xarray `Dataset` is a dictionairy-like container of data arrays with aligned dimensions. <br><br>\n",
    "\n",
    "![xrdataset](https://docs.xarray.dev/en/stable/_images/dataset-diagram.png)\n",
    "\n",
    "Datasets have four key properties:\n",
    "\n",
    "     1. dims:      dict for dimension names\n",
    "     2. data_vars: dict of data arrays\n",
    "     3. coords:    dict of coordinates\n",
    "     4. attrs:     dict for dataset (global) attributes\n",
    "\n",
    "**Note:** <br>\n",
    "If you are familiar with the **netCDF file format**: the Xarray Dataset is designed as an in-memory representation of the netCDF data model."
   ]
  },
  {
   "cell_type": "markdown",
   "id": "c7584b1f-2603-4a1d-8ea2-69d9576c006e",
   "metadata": {},
   "source": [
    "You can use the already defined DataArrays to create a Dataset. Here, we use our prw_data_xr DataArray."
   ]
  },
  {
   "cell_type": "code",
   "execution_count": null,
   "id": "729203d4-5d77-45b9-bc20-25a81277567c",
   "metadata": {},
   "outputs": [],
   "source": [
    "prw_data_xr"
   ]
  },
  {
   "cell_type": "code",
   "execution_count": null,
   "id": "d665a100-55b9-4abe-885a-a5a0f0a1bc5f",
   "metadata": {},
   "outputs": [],
   "source": [
    "ds = prw_data_xr.to_dataset()\n",
    "ds"
   ]
  },
  {
   "cell_type": "code",
   "execution_count": null,
   "id": "7733a4c1-430e-4925-9858-ebc198f0ebf6",
   "metadata": {},
   "outputs": [],
   "source": [
    "ds = prw_data_xr.to_dataset(promote_attrs=True)\n",
    "ds"
   ]
  },
  {
   "cell_type": "markdown",
   "id": "e237fb2e-4722-4f6e-a683-47255f1a22e1",
   "metadata": {},
   "source": [
    "<br>\n",
    "\n",
    "Next, we use a NumPy DataArray of random values as input data for the Dataset.\n",
    "\n",
    "1. define two arrays for the variables temp and prec\n",
    "1. define the coordinate data for lat and lon\n",
    "1. define the coordinate data for a time dimension\n",
    "1. create the Dataset\n",
    "\n",
    "<br>"
   ]
  },
  {
   "cell_type": "markdown",
   "id": "9245b20d-b999-48b1-b1d5-bdb577778865",
   "metadata": {},
   "source": [
    "1a. Define the data for the variable temp (temperature)"
   ]
  },
  {
   "cell_type": "code",
   "execution_count": null,
   "id": "5c5a2ca5-3e7b-4885-a5d5-01136829fe26",
   "metadata": {},
   "outputs": [],
   "source": [
    "temp = np.random.uniform(250,300,40).reshape((2,4,5))\n",
    "temp"
   ]
  },
  {
   "cell_type": "markdown",
   "id": "57928a51-54fc-48ba-868f-85848eebc2ba",
   "metadata": {},
   "source": [
    "1b. Define random data for a variable prec (precipitation), for reproducability we set the random seed."
   ]
  },
  {
   "cell_type": "code",
   "execution_count": null,
   "id": "c57eaccd-8553-4f3c-aa10-6cdeeb768c70",
   "metadata": {},
   "outputs": [],
   "source": [
    "np.random.seed(100000)"
   ]
  },
  {
   "cell_type": "code",
   "execution_count": null,
   "id": "0b7d2b20-2ce5-4c2a-98b9-5db8f34ed651",
   "metadata": {},
   "outputs": [],
   "source": [
    "prec = np.random.uniform(0.001,0.015,40).reshape((2,4,5))\n",
    "\n",
    "prec"
   ]
  },
  {
   "cell_type": "markdown",
   "id": "4d6b2a53-c1e3-4005-b5b9-fcb44775699d",
   "metadata": {},
   "source": [
    "2. Define the data for the coordinate variables lat and lon"
   ]
  },
  {
   "cell_type": "code",
   "execution_count": null,
   "id": "d3e75711-3144-41ed-8e26-89610bb23125",
   "metadata": {},
   "outputs": [],
   "source": [
    "lat = [45.,50.,55.,60.]\n",
    "lon = [0.,5.,10.,15.,20.]"
   ]
  },
  {
   "cell_type": "markdown",
   "id": "de9ed707-0113-4b33-83c1-3ae403d1eccd",
   "metadata": {},
   "source": [
    "3. Define the time variable\n",
    "\n",
    "This time we generate a time variable containing 2 time steps with daily-frequency with **Pandas** `pd.date_range()` function."
   ]
  },
  {
   "cell_type": "code",
   "execution_count": null,
   "id": "c9741f48-098b-4910-b62c-6542f3f7f479",
   "metadata": {},
   "outputs": [],
   "source": [
    "time = pd.date_range(start='2023-01-01', periods=2)\n",
    "time"
   ]
  },
  {
   "cell_type": "markdown",
   "id": "101878c3-5053-46a2-9698-7be0d18d6fe1",
   "metadata": {},
   "source": [
    "4. Define the Dataset\n",
    "\n",
    "Use the data and coordinate variables to generate the Dataset. Add an attribute 'comment' to the Dataset."
   ]
  },
  {
   "cell_type": "code",
   "execution_count": null,
   "id": "69472a09-4fc8-47d2-adb2-3d1d7aa857b7",
   "metadata": {},
   "outputs": [],
   "source": [
    "ds = xr.Dataset({'temp': (['time','lat','lon'], temp),\n",
    "                 'prec': (['time','lat','lon'], prec),\n",
    "                 },\n",
    "                 coords={'time': time,\n",
    "                         'lat': (['lat'], lat),\n",
    "                         'lon': (['lon'], lon),\n",
    "                         },\n",
    "                 attrs={'comment': 'This is a global attribute of the dataset'})"
   ]
  },
  {
   "cell_type": "markdown",
   "id": "bdf6c064-fc29-4077-8ea1-6a92701fe082",
   "metadata": {},
   "source": [
    "Let's look at the created Xarray Dataset"
   ]
  },
  {
   "cell_type": "code",
   "execution_count": null,
   "id": "2b7a98d4-62c6-4083-9fb8-eae9baeb6f52",
   "metadata": {},
   "outputs": [],
   "source": [
    "ds"
   ]
  },
  {
   "cell_type": "markdown",
   "id": "79c31337-bc9d-4803-b1bf-a6502c237674",
   "metadata": {},
   "source": [
    "If you want to have it more 'ncdump'-like view, use `Dataset.info()`."
   ]
  },
  {
   "cell_type": "code",
   "execution_count": null,
   "id": "22e3f347-6ab1-433a-8914-25b0f009149f",
   "metadata": {},
   "outputs": [],
   "source": [
    "ds.info()"
   ]
  },
  {
   "cell_type": "markdown",
   "id": "57830e7d-c216-4f82-be96-a8024de57782",
   "metadata": {},
   "source": [
    "<br>\n",
    "\n",
    "**Let's access the data.**"
   ]
  },
  {
   "cell_type": "markdown",
   "id": "fd989ce1-908c-4827-a2c9-4e065ce0fc3d",
   "metadata": {},
   "source": [
    "_the data variable temp_"
   ]
  },
  {
   "cell_type": "code",
   "execution_count": null,
   "id": "a27a538c-ff92-4dfa-9473-91d00a9daed6",
   "metadata": {},
   "outputs": [],
   "source": [
    "ds['temp']   \n",
    "# alternatively:\n",
    "#ds.temp"
   ]
  },
  {
   "cell_type": "markdown",
   "id": "fc452fe4-6416-48c7-8578-1f6e80072752",
   "metadata": {},
   "source": [
    "_the coordinate variable lat_"
   ]
  },
  {
   "cell_type": "code",
   "execution_count": null,
   "id": "c4603077-e9b4-4a18-8783-5c73cad7247b",
   "metadata": {},
   "outputs": [],
   "source": [
    "ds.lat\n",
    "\n",
    "# you can use the variable coordinate lat, too\n",
    "ds.temp.lat"
   ]
  },
  {
   "cell_type": "markdown",
   "id": "ba3dcc83-7777-4d51-a7cb-664cf48955b2",
   "metadata": {},
   "source": [
    "_the coordinate variable time_"
   ]
  },
  {
   "cell_type": "code",
   "execution_count": null,
   "id": "385db263-730b-4597-a581-eabb748da8f8",
   "metadata": {},
   "outputs": [],
   "source": [
    "ds.time"
   ]
  },
  {
   "cell_type": "markdown",
   "id": "4a9021fb-d43e-442f-9e7a-d522df387f21",
   "metadata": {},
   "source": [
    "### Dimensions, shape and size\n",
    "\n",
    "To get more information about the dimension, shape and size of a **Dataset**, we can use the appropriate attributes.\n",
    "\n"
   ]
  },
  {
   "cell_type": "code",
   "execution_count": null,
   "id": "048e197e-4e8d-4928-87e0-0a4ac93f3b68",
   "metadata": {},
   "outputs": [],
   "source": [
    "dims  = ds.dims\n",
    "shape = temp.shape\n",
    "size  = temp.size\n",
    "rank  = len(shape)\n",
    "\n",
    "print('dimensions: ', dims)\n",
    "print('shape:      ', shape)\n",
    "print('size:       ', size)\n",
    "print('rank:       ', rank)"
   ]
  },
  {
   "cell_type": "markdown",
   "id": "45f0a929-e687-4002-9331-cadf545abc2b",
   "metadata": {},
   "source": [
    "<br>\n",
    "\n",
    "<b><font size=\"+3\" color=\"#ff0000\">Exercise: </font></b> \n",
    "\n",
    "Make yourself familiar with `xr.Dataset`\n",
    "\n",
    "1. generate an Xarray Dataset\n",
    "1. try to add some attributes\n",
    "1. choose a variable and print its content"
   ]
  },
  {
   "cell_type": "code",
   "execution_count": null,
   "id": "41938413-c665-4e60-af00-b5a6f604f0b8",
   "metadata": {},
   "outputs": [],
   "source": [
    "# 1.\n"
   ]
  },
  {
   "cell_type": "code",
   "execution_count": null,
   "id": "d0ecdf10-d231-4eb6-83c7-f3c37bef6716",
   "metadata": {},
   "outputs": [],
   "source": [
    "# 2.\n"
   ]
  },
  {
   "cell_type": "code",
   "execution_count": null,
   "id": "89e6a5c3-e54f-46c6-bd4d-9493d25d8038",
   "metadata": {},
   "outputs": [],
   "source": [
    "# 3.\n"
   ]
  },
  {
   "cell_type": "markdown",
   "id": "2a0d1d00-972e-41fd-85f4-f4960d5f4c02",
   "metadata": {
    "tags": []
   },
   "source": [
    "<br>\n",
    "\n",
    "#### Solution"
   ]
  },
  {
   "cell_type": "code",
   "execution_count": null,
   "id": "75c01bb6-8a2d-4dc7-9573-d1109bb14cd9",
   "metadata": {
    "tags": []
   },
   "outputs": [],
   "source": [
    "# 1.\n",
    "tas = xr.DataArray(temp,\n",
    "                   coords={'time': time,\n",
    "                           'lat': (['lat'], lat),\n",
    "                           'lon': (['lon'], lon),\n",
    "                           },\n",
    "                   name='tas',\n",
    "                   attrs={'units': 'K', 'standard_name':'surface_temperature'})\n",
    "\n",
    "prc = xr.DataArray(prec,\n",
    "                   coords={'time': time,\n",
    "                           'lat': (['lat'], lat),\n",
    "                           'lon': (['lon'], lon),\n",
    "                           },\n",
    "                   name='prec',\n",
    "                   attrs={'units': 'mm', 'standard_name':'precipitation'})\n",
    "\n",
    "\n",
    "ds_new = xr.merge([tas,prc])\n",
    "print(ds_new.tas.attrs)"
   ]
  },
  {
   "cell_type": "code",
   "execution_count": null,
   "id": "9ecc3771-ffcd-44bd-b0b1-1d9a107fda40",
   "metadata": {
    "tags": []
   },
   "outputs": [],
   "source": [
    "# ... 1.  Use NumPy array temp and Xarray DataArray prc\n",
    "\n",
    "ds_new = xr.Dataset({'tas': (['time','lat','lon'], temp.data, {'units':'K', \n",
    "                                                               'standard_name':'surface_temperature'}),\n",
    "                     'prc': (['time','lat','lon'], prc.data, prc.attrs),\n",
    "                     },\n",
    "                     coords={'time': time,\n",
    "                            'lat': (['lat'], lat),\n",
    "                            'lon': (['lon'], lon),\n",
    "                            },\n",
    "                     attrs={'comment': 'This is a global attribute of the dataset',\n",
    "                            'source':'DKRZ Python Course'})\n",
    "print(ds_new.tas.attrs)\n",
    "print(ds_new.prc.attrs)\n",
    "print(ds_new)"
   ]
  },
  {
   "cell_type": "code",
   "execution_count": null,
   "id": "b714cede-5eca-4b39-809e-380d4db44983",
   "metadata": {
    "tags": []
   },
   "outputs": [],
   "source": [
    "# ... 1.  Add a DataArray to an existing Dataset\n",
    "\n",
    "ds_new2 = xr.merge([ds_new, tas.rename('tas2')])\n",
    "ds_new2"
   ]
  },
  {
   "cell_type": "code",
   "execution_count": null,
   "id": "a45ebe8c-d83b-4fe1-a8fc-f7805b9f094d",
   "metadata": {
    "tags": []
   },
   "outputs": [],
   "source": [
    "# 2.\n",
    "\n",
    "ds_new.tas.attrs['long_name'] = 'near surface temperature'\n",
    "\n",
    "print(ds_new.tas.attrs)"
   ]
  },
  {
   "cell_type": "code",
   "execution_count": null,
   "id": "d0f698a0-69de-4bce-bcaf-0d1a3132dbda",
   "metadata": {
    "tags": []
   },
   "outputs": [],
   "source": [
    "# 3.\n",
    "\n",
    "print(ds_new.prc.data)"
   ]
  },
  {
   "cell_type": "markdown",
   "id": "262c991d-617a-4cdf-b981-b851771d0951",
   "metadata": {},
   "source": [
    "## Indexing and slicing data \n",
    "\n",
    "See also: https://docs.xarray.dev/en/stable/user-guide/indexing.html#\n",
    "\n",
    "To demonstrate how to do DataArray indexing we create a small DataArray of shape(3,5). \n",
    "\n",
    "In <u>this example DataArray</u> the  dimension **x** can be seen as **row** and the dimension **y** as **columns**."
   ]
  },
  {
   "cell_type": "code",
   "execution_count": null,
   "id": "dcbd2a1e-9d4f-4678-95fe-2189d3e736cb",
   "metadata": {},
   "outputs": [],
   "source": [
    "da = xr.DataArray(np.arange(1,16).reshape((3,5)),\n",
    "                  dims=['x', 'y'],\n",
    "                  coords={'x':[1,2,3], 'y':[10,20,30,40,50]})\n",
    "da"
   ]
  },
  {
   "cell_type": "markdown",
   "id": "66ab6947-6e55-456a-8891-ca4edbb099cd",
   "metadata": {},
   "source": [
    "You can extract data using the indices of the dimensions. There are different ways to extract data from the DataArray.\n",
    "\n",
    "For the DataArray da with 2 dimensions using only one index for the 2d-array means you select a complete 'row' ('x')."
   ]
  },
  {
   "cell_type": "code",
   "execution_count": null,
   "id": "22f7b17d-8451-41b8-8ba9-bf28bd356282",
   "metadata": {},
   "outputs": [],
   "source": [
    "da[0]"
   ]
  },
  {
   "cell_type": "markdown",
   "id": "3333c285-67c2-42ca-87f1-3bbf919ce34b",
   "metadata": {},
   "source": [
    "When using 2 indices you can extract single values. You can use\n",
    "\n",
    "    data_array [index_of_dim_0][index_of_dim_1]\n",
    "    \n",
    "or \n",
    "    \n",
    "    data_array [index_of_dim_0, index_of_dim_1]"
   ]
  },
  {
   "cell_type": "code",
   "execution_count": null,
   "id": "ea9c66e6-6a05-48d9-835c-0b48ef732661",
   "metadata": {},
   "outputs": [],
   "source": [
    "da[1][0]"
   ]
  },
  {
   "cell_type": "code",
   "execution_count": null,
   "id": "19bfd49d-8469-49d1-b58f-2f148ec3a129",
   "metadata": {},
   "outputs": [],
   "source": [
    "da[1,0]"
   ]
  },
  {
   "cell_type": "markdown",
   "id": "54ef3f18-18f1-4406-9dc0-5e68fa259359",
   "metadata": {},
   "source": [
    "There is a method for DataArrays and Datasets called .isel() which uses the dimension name and the integer index.\n",
    "\n",
    "The following command does the same as the last example from above."
   ]
  },
  {
   "cell_type": "code",
   "execution_count": null,
   "id": "98d4c335-da25-4641-a265-2c44b8e4b0a7",
   "metadata": {},
   "outputs": [],
   "source": [
    "da.isel(x=1, y=0)"
   ]
  },
  {
   "cell_type": "markdown",
   "id": "099763ea-9a97-4691-8fee-22359616cd6f",
   "metadata": {},
   "source": [
    "So far we have selected only one element but we want now select more and therefor we use the slicing method (as shown in NumPy).\n",
    "\n",
    "Select some 'rows':"
   ]
  },
  {
   "cell_type": "code",
   "execution_count": null,
   "id": "f47628dc-b33d-4ec2-b18a-e1f049cba88b",
   "metadata": {},
   "outputs": [],
   "source": [
    "da[0:2, 1:3]"
   ]
  },
  {
   "cell_type": "markdown",
   "id": "b21cf277-3e8e-47b5-8bed-9f5dc544d1dc",
   "metadata": {},
   "source": [
    "With the `slice` function you can extract slices from the DataArray using the `.sel()` method."
   ]
  },
  {
   "cell_type": "code",
   "execution_count": null,
   "id": "4d543732-7b74-44cb-8a51-e26eee99d4a8",
   "metadata": {},
   "outputs": [],
   "source": [
    "da.isel(x=slice(0,2), y=0)"
   ]
  },
  {
   "cell_type": "markdown",
   "id": "7a6f3677-8176-41ae-abb6-b90033f6ecab",
   "metadata": {},
   "source": [
    "<b><font size=\"+3\" color=\"#ff0000\">Exercise: </font></b> \n",
    "\n",
    "Make yourself familiar with the indexing and slicing of DataArrays."
   ]
  },
  {
   "cell_type": "markdown",
   "id": "cd013b19-fc63-4125-bec0-9a067a4355e6",
   "metadata": {},
   "source": [
    "## Label-based indexing\n",
    "\n",
    "Insted of using the index integer value you can also lookup the dimensions by name."
   ]
  },
  {
   "cell_type": "code",
   "execution_count": null,
   "id": "da06f5ab-5870-4e57-b360-5289c74e740a",
   "metadata": {},
   "outputs": [],
   "source": [
    "da.sel(x=3)"
   ]
  },
  {
   "cell_type": "markdown",
   "id": "202de62c-9c10-4d4e-b023-1305970e1534",
   "metadata": {},
   "source": [
    "Do you know what we mean? Let us use a better example next.\n",
    "\n",
    "Therefore, we use the Dataset with the temperature and precipitation variable from above to demonstrate the `.sel()` and `.loc()` methods. Both can also be used with DataArrays."
   ]
  },
  {
   "cell_type": "code",
   "execution_count": null,
   "id": "d4a0dd89-9de5-4840-a4b9-d348c0a3d8eb",
   "metadata": {},
   "outputs": [],
   "source": [
    "ds"
   ]
  },
  {
   "cell_type": "markdown",
   "id": "c7a1fcd1-fc79-43cd-a3f6-c5bffe897249",
   "metadata": {},
   "source": [
    "Using the .sel() method with a Dataset it has an impact to all data variables (temp, precip).\n",
    "\n",
    "In the next example we want to extract only the data of all variables for time step '2020-01-15'."
   ]
  },
  {
   "cell_type": "code",
   "execution_count": null,
   "id": "5c9ad0ac-3342-45bb-a88e-4f7c0088d742",
   "metadata": {},
   "outputs": [],
   "source": [
    "ds.sel(time='2023-01-01')"
   ]
  },
  {
   "cell_type": "markdown",
   "id": "63a96f7d-5bf8-40c2-bb02-0eef06f6653c",
   "metadata": {},
   "source": [
    "Extract the temp data of a single time step."
   ]
  },
  {
   "cell_type": "code",
   "execution_count": null,
   "id": "82b1e95a-d232-4e9b-84d9-804ef9cfd7a1",
   "metadata": {},
   "outputs": [],
   "source": [
    "ds.temp.sel(time='2023-01-01')"
   ]
  },
  {
   "cell_type": "markdown",
   "id": "f3e92f18-e69a-4855-80ce-1766a5ed41b9",
   "metadata": {},
   "source": [
    "You can combine multiple labels at the same time to extract data. If you do not know the exact values you can use the keyword method with nearest to find the dimension index nearest to the given value."
   ]
  },
  {
   "cell_type": "code",
   "execution_count": null,
   "id": "81115f29-aacd-4f0d-bfc5-f419bac15d90",
   "metadata": {},
   "outputs": [],
   "source": [
    "ds.temp.sel(lat=51.5, lon=2.5, method='nearest').values"
   ]
  },
  {
   "cell_type": "markdown",
   "id": "b48a9c42-7170-47d5-b2df-748a7c603906",
   "metadata": {},
   "source": [
    "Note: The keyword method can't be used with dimension slicing."
   ]
  },
  {
   "cell_type": "code",
   "execution_count": null,
   "id": "ce489175-c176-41b2-922e-f9080d88c9c6",
   "metadata": {},
   "outputs": [],
   "source": [
    "ds.temp.sel(time='2023-01-01', lat=slice(51.5,57.5)).values"
   ]
  },
  {
   "cell_type": "markdown",
   "id": "e9da4f10-c1f7-469c-8534-4f79d18358d2",
   "metadata": {},
   "source": [
    "If you would prefer to work more Panda-like, then you can use the .loc[] method that uses a dictionary."
   ]
  },
  {
   "cell_type": "code",
   "execution_count": null,
   "id": "68397391-7fc1-4563-a556-310f2f7ce59c",
   "metadata": {},
   "outputs": [],
   "source": [
    "ds.temp.loc[{'time':'2023-01-01'}]"
   ]
  },
  {
   "cell_type": "markdown",
   "id": "698e141a-d3ce-4573-8c6b-8dfab5fb2715",
   "metadata": {},
   "source": [
    "Overview of the four different kinds of indexing:\n",
    "\n",
    "| Dimension lookup |  Index lookup |                 DataArray syntax                 |                  Dataset syntax                  |\n",
    "|:-----------------|:--------------|:-------------------------------------------------|:-------------------------------------------------|\n",
    "| Positional       | By integer    | `da[0, :, :]`                                    | not available                                    |\n",
    "| Positional       | By label      | `da.loc[\"2001-01-01\", :, :]`                     | not available                                    |\n",
    "| By name          | By integer    | `da.isel(time=0)` or <br>  `da[dict(time=0)]`        | `ds.isel(time=0)` or <br>  `ds[dict(time=0)`]        |\n",
    "| By name          | By label      | `da.sel(time=\"2001-01-01\")` or <br>  `da.loc[dict(time=\"2001-01-01\")`] | `ds.sel(time=\"2001-01-01\"`) or <br>   `ds.loc[dict(time=\"2001-01-01\")]` |\n",
    "\n",
    "<br>\n",
    "\n",
    "<b><font size=\"+3\" color=\"#ff0000\">Exercise: </font></b> \n",
    "\n",
    "1. Extract some precipitation data from the Dataset ds using\n",
    "   - .isel()\n",
    "   - .sel()\n",
    "   - .loc[]\n",
    "2. Which method do you like better `.sel()` or `.loc[]`?"
   ]
  },
  {
   "cell_type": "code",
   "execution_count": null,
   "id": "3370f2ba-13c4-4336-afd8-07d06099b77c",
   "metadata": {},
   "outputs": [],
   "source": [
    "# 1 - a\n"
   ]
  },
  {
   "cell_type": "code",
   "execution_count": null,
   "id": "56992a3b-c3ee-46c3-bd2d-ea6acae788ab",
   "metadata": {},
   "outputs": [],
   "source": [
    "# 1 - b\n"
   ]
  },
  {
   "cell_type": "code",
   "execution_count": null,
   "id": "9b6f873b-6cb1-40c0-9322-7212d938310c",
   "metadata": {},
   "outputs": [],
   "source": [
    "# 1 - c\n"
   ]
  },
  {
   "cell_type": "markdown",
   "id": "d448b568-6a3a-4896-bda3-cf75c2e3b480",
   "metadata": {},
   "source": [
    "<br>\n",
    "\n",
    "---- \n",
    "## Write DataArray or Dataset to file\n",
    "\n",
    "Xarray provides an easy way to write the well defined Dataset to an netCDF file with the function `.to_netcdf()`."
   ]
  },
  {
   "cell_type": "code",
   "execution_count": null,
   "id": "fa43249d-bf4e-4196-8081-2d78f64a4d6c",
   "metadata": {},
   "outputs": [],
   "source": [
    "!rm ds_output_file.nc\n",
    "\n",
    "ds.to_netcdf('ds_output_file.nc')"
   ]
  },
  {
   "cell_type": "code",
   "execution_count": null,
   "id": "719e1bdc-33d9-4e7d-b18f-997efb317472",
   "metadata": {},
   "outputs": [],
   "source": [
    "!ncdump -h ds_output_file.nc"
   ]
  },
  {
   "cell_type": "markdown",
   "id": "191abdc2-790e-4c69-acd6-34bc9d22385d",
   "metadata": {},
   "source": [
    "That was really easy! But for completeness we should have added some more attributes to the dimensions and data variables like units, standard_name, and others.\n",
    "\n",
    "Let's see how it looks like when we write the DataArray to a netCDF file."
   ]
  },
  {
   "cell_type": "code",
   "execution_count": null,
   "id": "47dcefe8-b5b4-467f-b36e-a9e115b1f7ff",
   "metadata": {},
   "outputs": [],
   "source": [
    "!rm da_output_file.nc\n",
    "da.to_netcdf('da_output_file.nc')"
   ]
  },
  {
   "cell_type": "code",
   "execution_count": null,
   "id": "4f47afa7-c5fe-4add-9995-2828edaf9703",
   "metadata": {},
   "outputs": [],
   "source": [
    "!ncdump -h da_output_file.nc"
   ]
  },
  {
   "cell_type": "markdown",
   "id": "d932f89b-b1fd-4c66-9a47-c4965a768373",
   "metadata": {},
   "source": [
    "It is also possible to write the Dataset to a Zarr file with the `Dataset.to_zarr()` function.\n",
    "\n",
    "Note:\n",
    "To write the data to a CSV file you can convert the Dataset to a `Pandas.DataFrame` and then use the `pandas.DataFrame.to_csv()` function. An alternative is to use the **xarray_extras** package.\n"
   ]
  },
  {
   "cell_type": "markdown",
   "id": "a1861116-ffe0-43f3-bf19-7b39bbb05ee4",
   "metadata": {},
   "source": [
    "<br>\n",
    "\n",
    "<b><font size=\"+3\" color=\"#ff0000\">Exercise: </font></b> \n",
    "\n",
    "1. Write one of the DataArrays and Dataset to a netCDF file\n"
   ]
  },
  {
   "cell_type": "code",
   "execution_count": null,
   "id": "e392721b-8919-4c66-958a-b91c942137b8",
   "metadata": {},
   "outputs": [],
   "source": [
    "# 1.\n"
   ]
  },
  {
   "cell_type": "markdown",
   "id": "61c97c47-e913-4c95-9f45-e26c0745fef5",
   "metadata": {},
   "source": [
    "<br>\n",
    "\n",
    "----\n",
    "\n",
    "## Read file\n",
    "\n",
    "In the next step we want to read our newly created netCDF file. Xarray provides the function `xr.open_dataset()` to open a file with the file format netCDF, GRIB, HDF5, or Zarr. Default format is netCDF.\n",
    "\n",
    "    ds_in = xr.open_dataset('infile.nc')\n",
    "\n",
    "is the same as\n",
    "\n",
    "    ds_in = xr.open_dataset('infile.nc', engine='netCDF4')\n",
    "\n",
    "\n",
    "As the function name says it only opens the file and reads in the meta-data, not the data itself, which saves memory."
   ]
  },
  {
   "cell_type": "code",
   "execution_count": null,
   "id": "11aeb238-e713-4d49-9bbe-e036e8bf0b68",
   "metadata": {},
   "outputs": [],
   "source": [
    "ds_in = xr.open_dataset('ds_output_file.nc')\n",
    "\n",
    "ds_in"
   ]
  },
  {
   "cell_type": "markdown",
   "id": "fd93ee6f-8f5c-40a1-9ef9-db9b05b93f0f",
   "metadata": {},
   "source": [
    "If you want to load the dataset into memory use load()."
   ]
  },
  {
   "cell_type": "code",
   "execution_count": null,
   "id": "f5f2911f-b109-4ca3-a590-1fd214fac009",
   "metadata": {},
   "outputs": [],
   "source": [
    "ds_in2 = xr.open_dataset('./ds_output_file.nc').load()"
   ]
  },
  {
   "cell_type": "markdown",
   "id": "2785706a-a822-4998-b91d-93b4cf4184c1",
   "metadata": {},
   "source": [
    "Delete this duplicate dataset."
   ]
  },
  {
   "cell_type": "code",
   "execution_count": null,
   "id": "f2cd578f-2f45-459a-ac8d-59c8aff4da4f",
   "metadata": {},
   "outputs": [],
   "source": [
    "del(ds_in2)"
   ]
  },
  {
   "cell_type": "markdown",
   "id": "72e4b757-e417-4180-b8fe-bdd333af3dba",
   "metadata": {},
   "source": [
    "Read another netCDF file."
   ]
  },
  {
   "cell_type": "code",
   "execution_count": null,
   "id": "91ae1efb-a7b0-4639-8d18-31dbdb90a785",
   "metadata": {},
   "outputs": [],
   "source": [
    "ds = xr.open_dataset('../data/tsurf.nc')\n",
    "ds.info()"
   ]
  },
  {
   "cell_type": "markdown",
   "id": "2424d12e-3433-42f2-9d39-9edd24d23290",
   "metadata": {},
   "source": [
    "<br>\n",
    "\n",
    "### Read a GRIB file\n",
    "\n",
    "Before we can read a GRIB file we have to import the cfgrib module which has to be installed."
   ]
  },
  {
   "cell_type": "code",
   "execution_count": null,
   "id": "171a584f-4164-4b40-a1fd-94c80c2e7d68",
   "metadata": {},
   "outputs": [],
   "source": [
    "import cfgrib"
   ]
  },
  {
   "cell_type": "markdown",
   "id": "c496f4c5-f38e-44a9-80f1-ffc8ba003fce",
   "metadata": {},
   "source": [
    "Now, we can use again the xr.open_dataset() function but this time with the engine 'cfgrib'."
   ]
  },
  {
   "cell_type": "code",
   "execution_count": null,
   "id": "61c46950-2577-408d-a015-936a7dd618cd",
   "metadata": {},
   "outputs": [],
   "source": [
    "ds2 = xr.open_dataset('../data/MET9_IR108_cosmode_0909210000.grb2',\n",
    "                      engine='cfgrib')"
   ]
  },
  {
   "cell_type": "code",
   "execution_count": null,
   "id": "d11b846a-c077-4afa-ac08-8208bf8d9cfc",
   "metadata": {},
   "outputs": [],
   "source": [
    "ds2.variables"
   ]
  },
  {
   "cell_type": "markdown",
   "id": "f3d929c8-11d6-49ec-b602-b741b1be2484",
   "metadata": {},
   "source": [
    "<br>\n",
    "\n",
    "<a class=\"anchor\" id=\"read-multi\"></a>\n",
    "### Read multiple files at once\n",
    "\n",
    "Sometimes you get data stored in multiple separate files but you want to have it available in only one Dataset.\n",
    "\n",
    "In the course directory **data** are 3 example files _precip_day01.nc, precip_day02.nc, and precip_day03.nc_, each containing the data of one day in 6 hour intervals. \n",
    "\n",
    "**Xarray** provides the function `xr.open_mfdataset()` to read multiple files in one step as a single dataset. Before you can use `xr.open_mfdataset` make sure that the Python module **dask** is installed in your environment.\n",
    "\n",
    "<br>\n"
   ]
  },
  {
   "cell_type": "code",
   "execution_count": null,
   "id": "3df5e0c2-5050-4ae0-949b-7b2c7d7ae58e",
   "metadata": {},
   "outputs": [],
   "source": [
    "!ls -la ../data"
   ]
  },
  {
   "cell_type": "markdown",
   "id": "67620840-af14-4c7b-a1d3-64fb74785186",
   "metadata": {},
   "source": [
    "<br>\n",
    "\n",
    "One reason why **Xarray** is very fast with multiple files is that it does not **load** the data when the files are opened. This is possible by using an underlying library named `dask`. You can recognize that by checking for the `precip` variable in `dsm`.\n",
    "\n",
    "First, we open the multiple files precip_day*.nc in the data directory."
   ]
  },
  {
   "cell_type": "code",
   "execution_count": null,
   "id": "244cf581-6d30-4d0f-9ac4-f5d176187cee",
   "metadata": {},
   "outputs": [],
   "source": [
    "dsm = xr.open_mfdataset('../data/precip_day*.nc')\n",
    "\n",
    "dsm"
   ]
  },
  {
   "cell_type": "code",
   "execution_count": null,
   "id": "dbaf788a-2643-4552-bed8-4084044f5c4a",
   "metadata": {},
   "outputs": [],
   "source": [
    "dsm.precip[1,4,5]"
   ]
  },
  {
   "cell_type": "markdown",
   "id": "791d6aad-81e2-4029-88b5-57557b88de96",
   "metadata": {},
   "source": [
    "will not show you an exact value but only a description of what this output will be. You would have to load the data into memory first for accessing one specific point of the array. This is most often not necessary for your workflow.\n",
    "\n",
    "The entire array can be loaded into memory by `dsm.precip.load()`. You can also do: \n",
    "```python\n",
    "dsm.precip.values[1,4,5]\n",
    "```\n",
    "\n",
    "➡️ While data is not in loaded, you can work on files that are **larger than memory**."
   ]
  },
  {
   "cell_type": "code",
   "execution_count": null,
   "id": "ff5366f7-3dc5-4421-86e5-7af03a79eae4",
   "metadata": {},
   "outputs": [],
   "source": [
    "dsm.precip[1,4,5]"
   ]
  },
  {
   "cell_type": "code",
   "execution_count": null,
   "id": "74da3f4d-efa8-404a-8835-a34acb65ac04",
   "metadata": {},
   "outputs": [],
   "source": [
    "dsm.precip.load()"
   ]
  },
  {
   "cell_type": "code",
   "execution_count": null,
   "id": "828591a2-9cbb-469a-9d30-43eb5b990841",
   "metadata": {},
   "outputs": [],
   "source": [
    "dsm.precip[1,4,5]\n",
    "\n",
    "# is the same as\n",
    "\n",
    "dsm.precip.values[1,4,5]"
   ]
  },
  {
   "cell_type": "markdown",
   "id": "aac42f5a-dc8e-4aff-8175-8b503e9d0887",
   "metadata": {},
   "source": [
    "The `xr.open_mfdataset` function is very powerful. It contains over 10 arguments which allow users to configure how the files are combined:\n",
    "\n",
    "- On what dimension should the data be concatted\n",
    "- How strict should tests ensure that the data can be concatted\n",
    "- What are coordinates, what are data variables"
   ]
  },
  {
   "cell_type": "markdown",
   "id": "e4e748a6-d2f7-49ec-8482-1d31252fa204",
   "metadata": {},
   "source": [
    "<br>\n",
    "\n",
    "<b><font size=\"+3\" color=\"#ff0000\">Exercise: </font></b> \n",
    "\n",
    "1. Read the file '../data/rectilinear_grid_2D.nc'\n",
    "2. Print the file content"
   ]
  },
  {
   "cell_type": "code",
   "execution_count": null,
   "id": "300aba36-5fea-4a1e-bf0a-cbb794cbe21e",
   "metadata": {},
   "outputs": [],
   "source": [
    "# 1.\n"
   ]
  },
  {
   "cell_type": "code",
   "execution_count": null,
   "id": "fb7394f4-6048-4813-a539-7032735be0c7",
   "metadata": {},
   "outputs": [],
   "source": [
    "# 2.\n"
   ]
  },
  {
   "cell_type": "markdown",
   "id": "60b1ce25-8fcb-49b4-a3a1-758b174363ad",
   "metadata": {
    "tags": []
   },
   "source": [
    "<br>\n",
    "\n",
    "#### Solution"
   ]
  },
  {
   "cell_type": "code",
   "execution_count": null,
   "id": "e87e1214-104e-42ae-9d1d-98808a2e2270",
   "metadata": {
    "tags": []
   },
   "outputs": [],
   "source": [
    "# 1.\n",
    "ds_reclin = xr.open_dataset('../data/rectilinear_grid_2D.nc')"
   ]
  },
  {
   "cell_type": "code",
   "execution_count": null,
   "id": "494d4428-e483-4b9a-b01a-4327f64f1813",
   "metadata": {
    "tags": []
   },
   "outputs": [],
   "source": [
    "# 2.\n",
    "ds_reclin"
   ]
  },
  {
   "cell_type": "markdown",
   "id": "5fc3b4be",
   "metadata": {
    "slideshow": {
     "slide_type": "subslide"
    }
   },
   "source": [
    "<br>\n",
    "\n",
    "### Get variable coordinates and names\n",
    "\n",
    "It is always good to have a closer look at the data, and this can be done very easily using the attributes, dimensions, and coordinates explained above.\n",
    "\n",
    "Show the coordinates stored in file:\n"
   ]
  },
  {
   "cell_type": "code",
   "execution_count": null,
   "id": "fc09aa0d-d764-4179-b1b8-a3f2eb10d9a5",
   "metadata": {},
   "outputs": [],
   "source": [
    "coords = ds.coords\n",
    "coords"
   ]
  },
  {
   "cell_type": "markdown",
   "id": "8843d365-22c6-45b3-891a-a8c51ed6988c",
   "metadata": {
    "slideshow": {
     "slide_type": "subslide"
    }
   },
   "source": [
    "List the variables stored in the file:"
   ]
  },
  {
   "cell_type": "code",
   "execution_count": null,
   "id": "fedae0e1-40f8-45f6-bbe9-699fb636dee7",
   "metadata": {
    "slideshow": {
     "slide_type": "subslide"
    }
   },
   "outputs": [],
   "source": [
    "variables = ds.variables\n",
    "variables"
   ]
  },
  {
   "cell_type": "markdown",
   "id": "fb18921d-de38-466f-bbcd-5f2865d69393",
   "metadata": {
    "slideshow": {
     "slide_type": "subslide"
    }
   },
   "source": [
    "Here we can see the time displayed in a readable way, because Xarray use the datetime64 module under the hood. Also the variable and coordinate attributes are displayed."
   ]
  },
  {
   "cell_type": "markdown",
   "id": "ddd3a653",
   "metadata": {
    "slideshow": {
     "slide_type": "subslide"
    }
   },
   "source": [
    "<h2 style=\"color:red\"> Exercise </h2>\n",
    "\n",
    "Use the Dataset ds from above.\n",
    "\n",
    "1. Print the global file attributes\n",
    "2. What is the difference of list(ds.keys()), list(ds.data_vars), and list(ds) ?\n",
    "3. Print the attributes of the variable of ds\n",
    "\n",
    "\n",
    "<br />"
   ]
  },
  {
   "cell_type": "code",
   "execution_count": null,
   "id": "1810c8b8-43bc-4e01-9cf6-d75d1a5c291c",
   "metadata": {},
   "outputs": [],
   "source": [
    "# 1.\n"
   ]
  },
  {
   "cell_type": "code",
   "execution_count": null,
   "id": "a7355519-d784-41ee-ba18-712d5981ca5e",
   "metadata": {},
   "outputs": [],
   "source": [
    "# 2.\n"
   ]
  },
  {
   "cell_type": "code",
   "execution_count": null,
   "id": "407473da-4862-4988-b3aa-ff7120188197",
   "metadata": {},
   "outputs": [],
   "source": [
    "# 3.\n"
   ]
  },
  {
   "cell_type": "markdown",
   "id": "cb3854ee-f667-479d-9e6a-14b88dffaf58",
   "metadata": {},
   "source": [
    "<br>\n",
    "\n",
    "#### Solution"
   ]
  },
  {
   "cell_type": "code",
   "execution_count": null,
   "id": "8cd6f10c-cadf-4b24-9d1d-212736d5c8b9",
   "metadata": {},
   "outputs": [],
   "source": [
    "# 1.\n",
    "print(ds.attrs)\n",
    "\n",
    "print('------------------------------------------------')"
   ]
  },
  {
   "cell_type": "code",
   "execution_count": null,
   "id": "e9dbc368-6540-4345-9fe4-e19663bf9b5e",
   "metadata": {},
   "outputs": [],
   "source": [
    "# 2.\n",
    "print(list(ds.keys()))\n",
    "print(list(ds.data_vars))\n",
    "print(list(ds))\n",
    "\n",
    "print('------------------------------------------------')"
   ]
  },
  {
   "cell_type": "code",
   "execution_count": null,
   "id": "f9dfb350-44d3-46d3-8bca-88b665193219",
   "metadata": {},
   "outputs": [],
   "source": [
    "# 3. \n",
    "print(ds.tsurf.attrs)\n",
    "print(ds['tsurf'].attrs)"
   ]
  }
 ],
 "metadata": {
  "kernelspec": {
   "display_name": "Python 3 (based on the module python3/unstable",
   "language": "python",
   "name": "python3_unstable"
  },
  "language_info": {
   "codemirror_mode": {
    "name": "ipython",
    "version": 3
   },
   "file_extension": ".py",
   "mimetype": "text/x-python",
   "name": "python",
   "nbconvert_exporter": "python",
   "pygments_lexer": "ipython3",
   "version": "3.10.10"
  }
 },
 "nbformat": 4,
 "nbformat_minor": 5
}
